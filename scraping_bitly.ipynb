{
 "cells": [
  {
   "cell_type": "code",
   "execution_count": 1,
   "metadata": {},
   "outputs": [],
   "source": [
    "import urllib.request"
   ]
  },
  {
   "cell_type": "code",
   "execution_count": 2,
   "metadata": {},
   "outputs": [
    {
     "name": "stdout",
     "output_type": "stream",
     "text": [
      "<!doctype html>\n",
      "<html lang=\"en\">\n",
      "<head>\n",
      "<meta charset=\"utf-8\">\n",
      "<meta name=\"viewport\" content=\"width=device-width, initial-scale=1.0, user-scalable=no, minimal-ui\">\n",
      "<link rel=\"icon\" type=\"image/png\" href=\"//d1ayxb9ooonjts.cloudfront.net/0482a3c938673192a591f2845b9eb275.png\" >\n",
      "<title>Bitly. The power of the link.</title>\n",
      "<link href=\"//d1ayxb9ooonjts.cloudfront.net/6ea9783513640ad6e9abca8f6f17fc0f.css\" rel=\"stylesheet\" type=\"text/css\">\n",
      "<script src=\"//use.typekit.net/mys2uzu.js\"></script>\n",
      "<script>try{Typekit.load();}catch(e){}</script>\n",
      "</head>\n",
      "<body>\n",
      "\n",
      "<div id=\"main\"></div>\n",
      "\n",
      "\n",
      "\n",
      "<script async src='//www.google-analytics.com/analytics.js'></script>\n",
      "<script>\n",
      "window.ga=window.ga||function(){(ga.q=ga.q||[]).push(arguments)};ga.l=+new Date;\n",
      "</script>\n",
      "\n",
      "\n",
      "<script src=\"//d1ayxb9ooonjts.cloudfront.net/vendor-ae6806b80b8884c3c4df.js\" type=\"text/javascript\"></script>\n",
      "<script src=\"//d1ayxb9ooonjts.cloudfront.net/info_plus-f49dadca1cfd2bfb1642.js\" type=\"text/javascript\"></script>\n",
      "<script type=\"text/javascript\">\n",
      "(function() {\n",
      "window.InfoPlus.start(\n",
      "{\"long_url_no_protocol\": \"trib.al/Ac0rB6v\", \"confidential_metrics_visible\": true, \"hash\": \"2oSIbJe\", \"title\": \"When #MeToo Went on Trial - The New York Times\", \"confidential_metrics\": false, \"created_at\": 1570185370, \"disp_title\": \"https://trib.al/Ac0rB6v\", \"global_hash\": \"2oUBma1\", \"long_url\": \"https://trib.al/Ac0rB6v\", \"user_hash\": \"2oSIbJe\", \"enterprise_user\": true, \"global_created_at\": 1570185370},\n",
      "{\"user_clicks\": 231, \"global_hash\": \"2oUBma1\", \"hash\": \"2oSIbJe\", \"user_hash\": \"2oSIbJe\", \"global_clicks\": 231},\n",
      "false,\n",
      "{\"display_name\": null, \"full_name\": null, \"created\": null, \"login\": null, \"is_verified\": false, \"email\": null},\n",
      "{},\n",
      "[\"signup_captcha\", \"info_page_global_timeframe\"],\n",
      "{}\n",
      ");\n",
      "})();\n",
      "</script>\n",
      "\n",
      "\n",
      "\n",
      "\n",
      "\n",
      "</body>\n",
      "</html>\n",
      "\n"
     ]
    }
   ],
   "source": [
    "fp = urllib.request.urlopen(\"https://bitly.com/2oSIbJe+\")\n",
    "mybytes = fp.read()\n",
    "\n",
    "mystr = mybytes.decode(\"utf8\")\n",
    "fp.close()\n",
    "\n",
    "print(mystr)"
   ]
  },
  {
   "cell_type": "code",
   "execution_count": null,
   "metadata": {},
   "outputs": [],
   "source": []
  }
 ],
 "metadata": {
  "kernelspec": {
   "display_name": "Python 3",
   "language": "python",
   "name": "python3"
  },
  "language_info": {
   "codemirror_mode": {
    "name": "ipython",
    "version": 3
   },
   "file_extension": ".py",
   "mimetype": "text/x-python",
   "name": "python",
   "nbconvert_exporter": "python",
   "pygments_lexer": "ipython3",
   "version": "3.7.3"
  }
 },
 "nbformat": 4,
 "nbformat_minor": 2
}
