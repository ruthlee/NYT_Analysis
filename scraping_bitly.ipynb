{
 "cells": [
  {
   "cell_type": "code",
   "execution_count": 41,
   "metadata": {},
   "outputs": [],
   "source": [
    "import requests\n",
    "import re\n",
    "import pandas as pd\n",
    "import numpy as np\n",
    "import time\n",
    "from tqdm import tqdm_notebook as tqdm"
   ]
  },
  {
   "cell_type": "code",
   "execution_count": 42,
   "metadata": {},
   "outputs": [],
   "source": [
    "# take in list of bit codes, spits out dataframe of bit codes and clicks.\n",
    "\n",
    "def get_clicks(bitcodes, urls):\n",
    "    df = pd.DataFrame(index = range(len(bitcodes)), columns = ['full_url', 'bitcode', 'global_clicks'])\n",
    "    df.full_url = urls\n",
    "    df.bitcode = bitcodes\n",
    "    \n",
    "    for i in tqdm(range(len(bitcodes))):\n",
    "        time.sleep(3)\n",
    "        if len(list(df.bitcode[i])) != 7:\n",
    "            continue\n",
    "        # request the text of the site\n",
    "        url = \"https://bitly.com/\" + bitcodes[i] + '+'\n",
    "        r = requests.get(url)\n",
    "        text = r.text\n",
    "        \n",
    "        # print(text)\n",
    "        \n",
    "        # find the global clicks parameter\n",
    "        try:\n",
    "            match = re.search('\"global_clicks\": (\\d+)', text)\n",
    "            clicks = int(match.group(1))\n",
    "        except:\n",
    "            pass\n",
    "        \n",
    "        # output into dataframe\n",
    "        df.global_clicks[i] = clicks\n",
    "        \n",
    "        # display(df)\n",
    "    \n",
    "    return df"
   ]
  },
  {
   "cell_type": "code",
   "execution_count": 43,
   "metadata": {},
   "outputs": [
    {
     "name": "stdout",
     "output_type": "stream",
     "text": [
      "2IP8De4\n",
      "https://nyti.ms/2IP8De4\n"
     ]
    },
    {
     "data": {
      "application/vnd.jupyter.widget-view+json": {
       "model_id": "57e22ff024da4264993369eb2dbb3446",
       "version_major": 2,
       "version_minor": 0
      },
      "text/plain": [
       "HBox(children=(IntProgress(value=0, max=30), HTML(value='')))"
      ]
     },
     "metadata": {},
     "output_type": "display_data"
    },
    {
     "name": "stdout",
     "output_type": "stream",
     "text": [
      "\n"
     ]
    }
   ],
   "source": [
    "bitcodes = [line.rstrip('\\n') for line in open('/Users/Kyelee/Documents/Columbia/senior_seminar/bash_scripts/bits.txt')]\n",
    "urls = [line.rstrip('\\n') for line in open('/Users/Kyelee/Documents/Columbia/senior_seminar/bash_scripts/nylinks.txt')]\n",
    "\n",
    "print(bitcodes[0])\n",
    "print(urls[0])\n",
    "\n",
    "df = get_clicks(bitcodes[0:30], urls[0:30])"
   ]
  },
  {
   "cell_type": "code",
   "execution_count": 44,
   "metadata": {},
   "outputs": [
    {
     "data": {
      "text/html": [
       "<div>\n",
       "<style scoped>\n",
       "    .dataframe tbody tr th:only-of-type {\n",
       "        vertical-align: middle;\n",
       "    }\n",
       "\n",
       "    .dataframe tbody tr th {\n",
       "        vertical-align: top;\n",
       "    }\n",
       "\n",
       "    .dataframe thead th {\n",
       "        text-align: right;\n",
       "    }\n",
       "</style>\n",
       "<table border=\"1\" class=\"dataframe\">\n",
       "  <thead>\n",
       "    <tr style=\"text-align: right;\">\n",
       "      <th></th>\n",
       "      <th>full_url</th>\n",
       "      <th>bitcode</th>\n",
       "      <th>global_clicks</th>\n",
       "    </tr>\n",
       "  </thead>\n",
       "  <tbody>\n",
       "    <tr>\n",
       "      <td>0</td>\n",
       "      <td>https://nyti.ms/2IP8De4</td>\n",
       "      <td>2IP8De4</td>\n",
       "      <td>688</td>\n",
       "    </tr>\n",
       "    <tr>\n",
       "      <td>1</td>\n",
       "      <td>http://nyti.ms/2pnoM3G</td>\n",
       "      <td>2pnoM3G</td>\n",
       "      <td>2132</td>\n",
       "    </tr>\n",
       "    <tr>\n",
       "      <td>2</td>\n",
       "      <td>http://nyti.ms/2pnoM3G</td>\n",
       "      <td>2pnoM3G</td>\n",
       "      <td>2132</td>\n",
       "    </tr>\n",
       "    <tr>\n",
       "      <td>3</td>\n",
       "      <td>http://nyti.ms/2pnoM3G</td>\n",
       "      <td>2pnoM3G</td>\n",
       "      <td>2132</td>\n",
       "    </tr>\n",
       "    <tr>\n",
       "      <td>4</td>\n",
       "      <td>https://nyti.ms/2pnoM3G</td>\n",
       "      <td>2pnoM3G</td>\n",
       "      <td>2132</td>\n",
       "    </tr>\n",
       "    <tr>\n",
       "      <td>5</td>\n",
       "      <td>https://nyti.ms/2pnoM3G</td>\n",
       "      <td>2pnoM3G</td>\n",
       "      <td>2132</td>\n",
       "    </tr>\n",
       "    <tr>\n",
       "      <td>6</td>\n",
       "      <td>https://nyti.ms/2OLHoF5</td>\n",
       "      <td>2OLHoF5</td>\n",
       "      <td>2383</td>\n",
       "    </tr>\n",
       "    <tr>\n",
       "      <td>7</td>\n",
       "      <td>https://nyti.ms/33vOsJW</td>\n",
       "      <td>33vOsJW</td>\n",
       "      <td>367</td>\n",
       "    </tr>\n",
       "    <tr>\n",
       "      <td>8</td>\n",
       "      <td>https://nyti.ms/33xa4FX</td>\n",
       "      <td>33xa4FX</td>\n",
       "      <td>2130</td>\n",
       "    </tr>\n",
       "    <tr>\n",
       "      <td>9</td>\n",
       "      <td>https://nyti.ms/2MLRALg</td>\n",
       "      <td>2MLRALg</td>\n",
       "      <td>1022</td>\n",
       "    </tr>\n",
       "    <tr>\n",
       "      <td>10</td>\n",
       "      <td>https://nyti.ms/33vza7Y</td>\n",
       "      <td>33vza7Y</td>\n",
       "      <td>622</td>\n",
       "    </tr>\n",
       "    <tr>\n",
       "      <td>11</td>\n",
       "      <td>https://nyti.ms/2MG9Rt3</td>\n",
       "      <td>2MG9Rt3</td>\n",
       "      <td>493</td>\n",
       "    </tr>\n",
       "    <tr>\n",
       "      <td>12</td>\n",
       "      <td>https://nyti.ms/2pl3KlW</td>\n",
       "      <td>2pl3KlW</td>\n",
       "      <td>395</td>\n",
       "    </tr>\n",
       "    <tr>\n",
       "      <td>13</td>\n",
       "      <td>https://nyti.ms/33xM8Cu</td>\n",
       "      <td>33xM8Cu</td>\n",
       "      <td>703</td>\n",
       "    </tr>\n",
       "    <tr>\n",
       "      <td>14</td>\n",
       "      <td>https://nyti.ms/2OMoFJj</td>\n",
       "      <td>2OMoFJj</td>\n",
       "      <td>3025</td>\n",
       "    </tr>\n",
       "    <tr>\n",
       "      <td>15</td>\n",
       "      <td>https://nyti.ms/32i8jfq</td>\n",
       "      <td>32i8jfq</td>\n",
       "      <td>776</td>\n",
       "    </tr>\n",
       "    <tr>\n",
       "      <td>16</td>\n",
       "      <td>https://nyti.ms/2MfeYlh</td>\n",
       "      <td>2MfeYlh</td>\n",
       "      <td>6657</td>\n",
       "    </tr>\n",
       "    <tr>\n",
       "      <td>17</td>\n",
       "      <td>https://nyti.ms/35HGShs</td>\n",
       "      <td>35HGShs</td>\n",
       "      <td>452</td>\n",
       "    </tr>\n",
       "    <tr>\n",
       "      <td>18</td>\n",
       "      <td>https://nyti.ms/35Bqe2L</td>\n",
       "      <td>35Bqe2L</td>\n",
       "      <td>361</td>\n",
       "    </tr>\n",
       "    <tr>\n",
       "      <td>19</td>\n",
       "      <td>https://nyti.ms/32eNzVV</td>\n",
       "      <td>32eNzVV</td>\n",
       "      <td>1860</td>\n",
       "    </tr>\n",
       "    <tr>\n",
       "      <td>20</td>\n",
       "      <td>https://nyti.ms/2MFHbk8</td>\n",
       "      <td>2MFHbk8</td>\n",
       "      <td>751</td>\n",
       "    </tr>\n",
       "    <tr>\n",
       "      <td>21</td>\n",
       "      <td>https://nyti.ms/2MEZhTf</td>\n",
       "      <td>2MEZhTf</td>\n",
       "      <td>464</td>\n",
       "    </tr>\n",
       "    <tr>\n",
       "      <td>22</td>\n",
       "      <td>https://nyti.ms/2OL5AHy</td>\n",
       "      <td>2OL5AHy</td>\n",
       "      <td>446</td>\n",
       "    </tr>\n",
       "    <tr>\n",
       "      <td>23</td>\n",
       "      <td>https://nyti.ms/35sXvgN</td>\n",
       "      <td>35sXvgN</td>\n",
       "      <td>1733</td>\n",
       "    </tr>\n",
       "    <tr>\n",
       "      <td>24</td>\n",
       "      <td>https://nyti.ms/32gvRkO</td>\n",
       "      <td>32gvRkO</td>\n",
       "      <td>1112</td>\n",
       "    </tr>\n",
       "    <tr>\n",
       "      <td>25</td>\n",
       "      <td>https://nyti.ms/32ax3pY</td>\n",
       "      <td>32ax3pY</td>\n",
       "      <td>641</td>\n",
       "    </tr>\n",
       "    <tr>\n",
       "      <td>26</td>\n",
       "      <td>https://nyti.ms/317yN20</td>\n",
       "      <td>317yN20</td>\n",
       "      <td>828</td>\n",
       "    </tr>\n",
       "    <tr>\n",
       "      <td>27</td>\n",
       "      <td>https://nyti.ms/2OHkVJj</td>\n",
       "      <td>2OHkVJj</td>\n",
       "      <td>612</td>\n",
       "    </tr>\n",
       "    <tr>\n",
       "      <td>28</td>\n",
       "      <td>https://nyti.ms/33sPlCZ</td>\n",
       "      <td>33sPlCZ</td>\n",
       "      <td>2633</td>\n",
       "    </tr>\n",
       "    <tr>\n",
       "      <td>29</td>\n",
       "      <td>https://nyti.ms/2oFYlWO</td>\n",
       "      <td>2oFYlWO</td>\n",
       "      <td>574</td>\n",
       "    </tr>\n",
       "  </tbody>\n",
       "</table>\n",
       "</div>"
      ],
      "text/plain": [
       "                   full_url  bitcode global_clicks\n",
       "0   https://nyti.ms/2IP8De4  2IP8De4           688\n",
       "1    http://nyti.ms/2pnoM3G  2pnoM3G          2132\n",
       "2    http://nyti.ms/2pnoM3G  2pnoM3G          2132\n",
       "3    http://nyti.ms/2pnoM3G  2pnoM3G          2132\n",
       "4   https://nyti.ms/2pnoM3G  2pnoM3G          2132\n",
       "5   https://nyti.ms/2pnoM3G  2pnoM3G          2132\n",
       "6   https://nyti.ms/2OLHoF5  2OLHoF5          2383\n",
       "7   https://nyti.ms/33vOsJW  33vOsJW           367\n",
       "8   https://nyti.ms/33xa4FX  33xa4FX          2130\n",
       "9   https://nyti.ms/2MLRALg  2MLRALg          1022\n",
       "10  https://nyti.ms/33vza7Y  33vza7Y           622\n",
       "11  https://nyti.ms/2MG9Rt3  2MG9Rt3           493\n",
       "12  https://nyti.ms/2pl3KlW  2pl3KlW           395\n",
       "13  https://nyti.ms/33xM8Cu  33xM8Cu           703\n",
       "14  https://nyti.ms/2OMoFJj  2OMoFJj          3025\n",
       "15  https://nyti.ms/32i8jfq  32i8jfq           776\n",
       "16  https://nyti.ms/2MfeYlh  2MfeYlh          6657\n",
       "17  https://nyti.ms/35HGShs  35HGShs           452\n",
       "18  https://nyti.ms/35Bqe2L  35Bqe2L           361\n",
       "19  https://nyti.ms/32eNzVV  32eNzVV          1860\n",
       "20  https://nyti.ms/2MFHbk8  2MFHbk8           751\n",
       "21  https://nyti.ms/2MEZhTf  2MEZhTf           464\n",
       "22  https://nyti.ms/2OL5AHy  2OL5AHy           446\n",
       "23  https://nyti.ms/35sXvgN  35sXvgN          1733\n",
       "24  https://nyti.ms/32gvRkO  32gvRkO          1112\n",
       "25  https://nyti.ms/32ax3pY  32ax3pY           641\n",
       "26  https://nyti.ms/317yN20  317yN20           828\n",
       "27  https://nyti.ms/2OHkVJj  2OHkVJj           612\n",
       "28  https://nyti.ms/33sPlCZ  33sPlCZ          2633\n",
       "29  https://nyti.ms/2oFYlWO  2oFYlWO           574"
      ]
     },
     "execution_count": 44,
     "metadata": {},
     "output_type": "execute_result"
    }
   ],
   "source": [
    "df"
   ]
  },
  {
   "cell_type": "code",
   "execution_count": 15,
   "metadata": {},
   "outputs": [
    {
     "data": {
      "text/plain": [
       "7"
      ]
     },
     "execution_count": 15,
     "metadata": {},
     "output_type": "execute_result"
    }
   ],
   "source": [
    "len(list(bitcodes[0]))"
   ]
  },
  {
   "cell_type": "code",
   "execution_count": 17,
   "metadata": {},
   "outputs": [
    {
     "data": {
      "text/plain": [
       "b'{\"message\":\"FORBIDDEN\"}'"
      ]
     },
     "execution_count": 17,
     "metadata": {},
     "output_type": "execute_result"
    }
   ],
   "source": [
    "### ACCESS FORBIDDEN to get clicks by email referral. Can only get global clicks right now. \n",
    "\n",
    "# access token: 770600e38c60f5c5f72d984788e96a9c0150a86c\n",
    "# guid = Bj9uhvjO131\n",
    "\n",
    "url = 'https://api-ssl.bitly.com/v4/groups/Bj9uhvjO131'\n",
    "stuff = {'group_guid' : 'Bj9uhvjO131', \\\n",
    "         'address' : 'https://bitly.com/2oSIbJe'}\n",
    "\n",
    "r = requests.get(url, params = stuff)\n",
    "r.content"
   ]
  },
  {
   "cell_type": "code",
   "execution_count": 11,
   "metadata": {},
   "outputs": [
    {
     "data": {
      "text/plain": [
       "{'Server': 'nginx', 'Date': 'Fri, 04 Oct 2019 15:07:28 GMT', 'Content-Type': 'text/html; charset=UTF-8', 'Content-Length': '1778', 'Content-Language': 'en', 'Set-Cookie': '_xsrf=a8f124b806ba466ca61f3e5f7b27cdc6; Domain=bitly.com; Path=/, anon_u=cHN1X19iZDFhZjkyNi03MTM2LTRhODEtODVhYi05ZGY2MjU4MTMyNmU=|1570201648|cc8a4a5e131e7534f4c25bda2d93f39763c10066; Domain=bitly.com; expires=Sat, 03 Oct 2020 15:07:28 GMT; httponly; Path=/', 'Etag': '\"db976f568952abef2dfd33d224bbd1e9dcea2608\"', 'Pragma': 'no-cache', 'Cache-Control': 'no-cache, no-store, max-age=0, must-revalidate', 'P3p': 'CP=\"CAO PSA OUR\"', 'X-Frame-Options': 'DENY', 'Via': '1.1 google', 'Alt-Svc': 'clear'}"
      ]
     },
     "execution_count": 11,
     "metadata": {},
     "output_type": "execute_result"
    }
   ],
   "source": [
    "r.headers"
   ]
  },
  {
   "cell_type": "code",
   "execution_count": null,
   "metadata": {},
   "outputs": [],
   "source": []
  }
 ],
 "metadata": {
  "kernelspec": {
   "display_name": "Python 3",
   "language": "python",
   "name": "python3"
  },
  "language_info": {
   "codemirror_mode": {
    "name": "ipython",
    "version": 3
   },
   "file_extension": ".py",
   "mimetype": "text/x-python",
   "name": "python",
   "nbconvert_exporter": "python",
   "pygments_lexer": "ipython3",
   "version": "3.7.4"
  }
 },
 "nbformat": 4,
 "nbformat_minor": 2
}
