{
 "cells": [
  {
   "cell_type": "code",
   "execution_count": 89,
   "metadata": {},
   "outputs": [],
   "source": [
    "import requests\n",
    "import re\n",
    "import pandas as pd\n",
    "import numpy as np"
   ]
  },
  {
   "cell_type": "code",
   "execution_count": 91,
   "metadata": {},
   "outputs": [],
   "source": [
    "# take in list of bit codes, spits out dataframe of bit codes and clicks.\n",
    "\n",
    "def get_clicks(bitcodes):\n",
    "    df = pd.DataFrame(index = range(len(bitcodes)), columns = ['bitcode', 'global_clicks'])\n",
    "    df.bitcode = bitcodes\n",
    "    \n",
    "    for i in range(len(bitcodes)):\n",
    "        # request the text of the site\n",
    "        url = \"https://bitly.com/\" + bitcodes[i] + '+'\n",
    "        r = requests.get(url)\n",
    "        text = r.text\n",
    "        \n",
    "        # find the global clicks parameter\n",
    "        match = re.search('\"global_clicks\": (\\d+)', text)\n",
    "        clicks = int(match.group(1))\n",
    "        \n",
    "        # output into dataframe\n",
    "        df.global_clicks[i] = clicks\n",
    "    \n",
    "    return df"
   ]
  },
  {
   "cell_type": "code",
   "execution_count": 96,
   "metadata": {},
   "outputs": [
    {
     "name": "stdout",
     "output_type": "stream",
     "text": [
      "['2oSIbJe', '2MfNTwS', '31RPxvu', '2MfumMX', '2VaRnVF', '2AMhmZT']\n"
     ]
    },
    {
     "data": {
      "text/html": [
       "<div>\n",
       "<style scoped>\n",
       "    .dataframe tbody tr th:only-of-type {\n",
       "        vertical-align: middle;\n",
       "    }\n",
       "\n",
       "    .dataframe tbody tr th {\n",
       "        vertical-align: top;\n",
       "    }\n",
       "\n",
       "    .dataframe thead th {\n",
       "        text-align: right;\n",
       "    }\n",
       "</style>\n",
       "<table border=\"1\" class=\"dataframe\">\n",
       "  <thead>\n",
       "    <tr style=\"text-align: right;\">\n",
       "      <th></th>\n",
       "      <th>bitcode</th>\n",
       "      <th>global_clicks</th>\n",
       "    </tr>\n",
       "  </thead>\n",
       "  <tbody>\n",
       "    <tr>\n",
       "      <th>0</th>\n",
       "      <td>2oSIbJe</td>\n",
       "      <td>242</td>\n",
       "    </tr>\n",
       "    <tr>\n",
       "      <th>1</th>\n",
       "      <td>2MfNTwS</td>\n",
       "      <td>634</td>\n",
       "    </tr>\n",
       "    <tr>\n",
       "      <th>2</th>\n",
       "      <td>31RPxvu</td>\n",
       "      <td>248</td>\n",
       "    </tr>\n",
       "    <tr>\n",
       "      <th>3</th>\n",
       "      <td>2MfumMX</td>\n",
       "      <td>1000</td>\n",
       "    </tr>\n",
       "    <tr>\n",
       "      <th>4</th>\n",
       "      <td>2VaRnVF</td>\n",
       "      <td>313</td>\n",
       "    </tr>\n",
       "    <tr>\n",
       "      <th>5</th>\n",
       "      <td>2AMhmZT</td>\n",
       "      <td>273</td>\n",
       "    </tr>\n",
       "  </tbody>\n",
       "</table>\n",
       "</div>"
      ],
      "text/plain": [
       "   bitcode global_clicks\n",
       "0  2oSIbJe           242\n",
       "1  2MfNTwS           634\n",
       "2  31RPxvu           248\n",
       "3  2MfumMX          1000\n",
       "4  2VaRnVF           313\n",
       "5  2AMhmZT           273"
      ]
     },
     "execution_count": 96,
     "metadata": {},
     "output_type": "execute_result"
    }
   ],
   "source": [
    "bitcodes = [line.rstrip('\\n') for line in open('/Users/Kyelee/Documents/Columbia/senior_seminar/bash_scripts/bits.txt')]\n",
    "\n",
    "print(bitcodes)\n",
    "\n",
    "get_clicks(bitcodes)"
   ]
  },
  {
   "cell_type": "code",
   "execution_count": 17,
   "metadata": {},
   "outputs": [
    {
     "data": {
      "text/plain": [
       "b'{\"message\":\"FORBIDDEN\"}'"
      ]
     },
     "execution_count": 17,
     "metadata": {},
     "output_type": "execute_result"
    }
   ],
   "source": [
    "### ACCESS FORBIDDEN to get clicks by email referral. Can only get global clicks right now. \n",
    "\n",
    "# access token: 770600e38c60f5c5f72d984788e96a9c0150a86c\n",
    "# guid = Bj9uhvjO131\n",
    "\n",
    "url = 'https://api-ssl.bitly.com/v4/groups/Bj9uhvjO131'\n",
    "stuff = {'group_guid' : 'Bj9uhvjO131', \\\n",
    "         'address' : 'https://bitly.com/2oSIbJe'}\n",
    "\n",
    "r = requests.get(url, params = stuff)\n",
    "r.content"
   ]
  },
  {
   "cell_type": "code",
   "execution_count": 11,
   "metadata": {},
   "outputs": [
    {
     "data": {
      "text/plain": [
       "{'Server': 'nginx', 'Date': 'Fri, 04 Oct 2019 15:07:28 GMT', 'Content-Type': 'text/html; charset=UTF-8', 'Content-Length': '1778', 'Content-Language': 'en', 'Set-Cookie': '_xsrf=a8f124b806ba466ca61f3e5f7b27cdc6; Domain=bitly.com; Path=/, anon_u=cHN1X19iZDFhZjkyNi03MTM2LTRhODEtODVhYi05ZGY2MjU4MTMyNmU=|1570201648|cc8a4a5e131e7534f4c25bda2d93f39763c10066; Domain=bitly.com; expires=Sat, 03 Oct 2020 15:07:28 GMT; httponly; Path=/', 'Etag': '\"db976f568952abef2dfd33d224bbd1e9dcea2608\"', 'Pragma': 'no-cache', 'Cache-Control': 'no-cache, no-store, max-age=0, must-revalidate', 'P3p': 'CP=\"CAO PSA OUR\"', 'X-Frame-Options': 'DENY', 'Via': '1.1 google', 'Alt-Svc': 'clear'}"
      ]
     },
     "execution_count": 11,
     "metadata": {},
     "output_type": "execute_result"
    }
   ],
   "source": [
    "r.headers"
   ]
  },
  {
   "cell_type": "code",
   "execution_count": null,
   "metadata": {},
   "outputs": [],
   "source": []
  }
 ],
 "metadata": {
  "kernelspec": {
   "display_name": "Python 3",
   "language": "python",
   "name": "python3"
  },
  "language_info": {
   "codemirror_mode": {
    "name": "ipython",
    "version": 3
   },
   "file_extension": ".py",
   "mimetype": "text/x-python",
   "name": "python",
   "nbconvert_exporter": "python",
   "pygments_lexer": "ipython3",
   "version": "3.7.3"
  }
 },
 "nbformat": 4,
 "nbformat_minor": 2
}
