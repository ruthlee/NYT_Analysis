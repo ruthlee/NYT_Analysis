{
 "cells": [
  {
   "cell_type": "code",
   "execution_count": 61,
   "metadata": {},
   "outputs": [],
   "source": [
    "import requests\n",
    "from bs4 import BeautifulSoup\n",
    "import pandas as pd\n",
    "import numpy as np\n",
    "import time\n",
    "from tqdm import tqdm_notebook as tqdm\n",
    "import re"
   ]
  },
  {
   "cell_type": "markdown",
   "metadata": {},
   "source": [
    "## Scraping NYT pages for Articles given URL\n",
    "\n",
    "We define a ```get_article``` function which scrapes the HTML of the NYTimes page, then given a text file of links from Twitter will run the function in a loop (which takes a good long while)"
   ]
  },
  {
   "cell_type": "code",
   "execution_count": 64,
   "metadata": {},
   "outputs": [],
   "source": [
    "# source: https://towardsdatascience.com/a-practitioners-guide-to-natural-language-processing-part-i-processing-understanding-text-9f4abfd13e72\n",
    "def remove_special_chars(text, remove_digits=False):\n",
    "    pattern = r'[^a-zA-z0-9\\s]' if not remove_digits else r'[^a-zA-z\\s]'\n",
    "    text = re.sub(pattern, '', text)\n",
    "    return text"
   ]
  },
  {
   "cell_type": "code",
   "execution_count": 65,
   "metadata": {},
   "outputs": [
    {
     "data": {
      "text/plain": [
       "'a'"
      ]
     },
     "execution_count": 65,
     "metadata": {},
     "output_type": "execute_result"
    }
   ],
   "source": [
    "remove_special_chars(\"áaã\")"
   ]
  },
  {
   "cell_type": "code",
   "execution_count": 137,
   "metadata": {},
   "outputs": [],
   "source": [
    "# Some code pulled from: \n",
    "# https://stackoverflow.com/questions/40699015/python-beautifulsoup-new-york-times-web-article-scraping\n",
    "\n",
    "def get_article(url):\n",
    "    ''' if given the url for a specific nyt article, will grab the article text '''\n",
    "    \n",
    "    session = requests.Session()\n",
    "    req = session.get(url)\n",
    "    soup = BeautifulSoup(req.text)\n",
    "    \n",
    "    paragraphs = soup.find_all('p')\n",
    "    article = ''\n",
    "    for p in paragraphs:\n",
    "        article = article + p.get_text()\n",
    "    \n",
    "    ### Clean up some\n",
    "    \n",
    "    article = remove_special_chars(article)\n",
    "    \n",
    "    # source: https://stackoverflow.com/questions/199059/a-pythonic-way-to-insert-a-space-before-capital-letters\n",
    "    article = re.sub(r\"(\\w)([A-Z])\", r\"\\1 \\2\", article)\n",
    "    \n",
    "    try:\n",
    "        article = article.split('\\n', 1)[-1]\n",
    "    except:\n",
    "        pass\n",
    "    \n",
    "    try:\n",
    "        article = article.split('A version of this article', 1)[0]\n",
    "    except:\n",
    "        pass\n",
    "    \n",
    "    try:\n",
    "        article = article.split('Were interested in your feedback on this page', 1)[0]\n",
    "    except:\n",
    "        pass\n",
    "\n",
    "    return article"
   ]
  },
  {
   "cell_type": "code",
   "execution_count": 142,
   "metadata": {},
   "outputs": [],
   "source": [
    "# get_article(urls[5001])"
   ]
  },
  {
   "cell_type": "code",
   "execution_count": 149,
   "metadata": {},
   "outputs": [],
   "source": [
    "urls = [line.rstrip('\\n') for line in open('/Users/Kyelee/Documents/Columbia/senior_seminar/bash_scripts/twitlinks.txt')]"
   ]
  },
  {
   "cell_type": "code",
   "execution_count": 150,
   "metadata": {},
   "outputs": [
    {
     "data": {
      "text/plain": [
       "11567"
      ]
     },
     "execution_count": 150,
     "metadata": {},
     "output_type": "execute_result"
    }
   ],
   "source": [
    "len(urls)"
   ]
  },
  {
   "cell_type": "code",
   "execution_count": 151,
   "metadata": {},
   "outputs": [
    {
     "data": {
      "application/vnd.jupyter.widget-view+json": {
       "model_id": "16c79460cfa74b7ca6dc9c7097a2c6de",
       "version_major": 2,
       "version_minor": 0
      },
      "text/plain": [
       "HBox(children=(IntProgress(value=0, max=11567), HTML(value='')))"
      ]
     },
     "metadata": {},
     "output_type": "display_data"
    },
    {
     "name": "stdout",
     "output_type": "stream",
     "text": [
      "exception 1\n",
      "exception 2\n",
      "exception 3\n",
      "exception 4\n",
      "exception 5\n",
      "exception 6\n",
      "exception 7\n",
      "exception 8\n",
      "exception 9\n",
      "exception 10\n",
      "exception 11\n",
      "exception 12\n",
      "exception 13\n",
      "exception 14\n",
      "exception 15\n",
      "exception 16\n",
      "exception 17\n",
      "exception 18\n",
      "exception 19\n",
      "exception 20\n",
      "exception 21\n",
      "exception 22\n",
      "exception 23\n",
      "exception 24\n",
      "exception 25\n",
      "exception 26\n",
      "exception 27\n",
      "exception 28\n",
      "exception 29\n",
      "exception 30\n",
      "exception 31\n",
      "exception 32\n",
      "exception 33\n",
      "exception 34\n",
      "exception 35\n",
      "exception 36\n",
      "exception 37\n",
      "exception 38\n",
      "exception 39\n",
      "exception 40\n",
      "exception 41\n",
      "exception 42\n",
      "exception 43\n",
      "exception 44\n",
      "exception 45\n",
      "exception 46\n",
      "exception 47\n",
      "exception 48\n",
      "exception 49\n",
      "exception 50\n",
      "exception 51\n",
      "exception 52\n",
      "exception 53\n",
      "exception 54\n",
      "exception 55\n",
      "exception 56\n",
      "exception 57\n",
      "exception 58\n",
      "exception 59\n",
      "exception 60\n",
      "exception 61\n",
      "exception 62\n",
      "exception 63\n",
      "exception 64\n",
      "exception 65\n",
      "exception 66\n",
      "exception 67\n",
      "exception 68\n",
      "exception 69\n",
      "exception 70\n",
      "exception 71\n",
      "exception 72\n",
      "exception 73\n",
      "exception 74\n",
      "exception 75\n",
      "exception 76\n",
      "exception 77\n",
      "exception 78\n",
      "exception 79\n",
      "exception 80\n",
      "exception 81\n",
      "exception 82\n",
      "exception 83\n",
      "exception 84\n",
      "exception 85\n",
      "exception 86\n",
      "exception 87\n",
      "exception 88\n",
      "exception 89\n",
      "exception 90\n",
      "exception 91\n",
      "exception 92\n",
      "exception 93\n",
      "exception 94\n",
      "exception 95\n",
      "\n"
     ]
    }
   ],
   "source": [
    "df = pd.DataFrame(index = range(len(urls)), columns = ['url', 'text'])\n",
    "df.url = urls\n",
    "n = 1\n",
    "\n",
    "for i in tqdm(range(len(urls))):\n",
    "    time.sleep(3)\n",
    "    try:\n",
    "        df.text[i] = get_article(urls[i])\n",
    "    except:\n",
    "        print(\"exception\", n)\n",
    "        n = n + 1\n",
    "        pass\n",
    "    \n",
    "    \n",
    "df.to_pickle(\"./text.pkl\")"
   ]
  },
  {
   "cell_type": "markdown",
   "metadata": {},
   "source": [
    "## Read the saved pickle file and CLEAN"
   ]
  },
  {
   "cell_type": "code",
   "execution_count": 249,
   "metadata": {},
   "outputs": [],
   "source": [
    "unpickled_df = pd.read_pickle(\"./text.pkl\")"
   ]
  },
  {
   "cell_type": "code",
   "execution_count": 250,
   "metadata": {},
   "outputs": [
    {
     "data": {
      "text/html": [
       "<div>\n",
       "<style scoped>\n",
       "    .dataframe tbody tr th:only-of-type {\n",
       "        vertical-align: middle;\n",
       "    }\n",
       "\n",
       "    .dataframe tbody tr th {\n",
       "        vertical-align: top;\n",
       "    }\n",
       "\n",
       "    .dataframe thead th {\n",
       "        text-align: right;\n",
       "    }\n",
       "</style>\n",
       "<table border=\"1\" class=\"dataframe\">\n",
       "  <thead>\n",
       "    <tr style=\"text-align: right;\">\n",
       "      <th></th>\n",
       "      <th>url</th>\n",
       "      <th>text</th>\n",
       "    </tr>\n",
       "  </thead>\n",
       "  <tbody>\n",
       "    <tr>\n",
       "      <td>0</td>\n",
       "      <td>https://nyti.ms/2MfGkpT</td>\n",
       "      <td>Advertisement Supported by As the cultural fir...</td>\n",
       "    </tr>\n",
       "    <tr>\n",
       "      <td>1</td>\n",
       "      <td>https://nyti.ms/2OMm5TN</td>\n",
       "      <td>Advertisement Supported by To conservatives in...</td>\n",
       "    </tr>\n",
       "    <tr>\n",
       "      <td>2</td>\n",
       "      <td>https://nyti.ms/2ISx9Lj</td>\n",
       "      <td>Advertisement Supported by Op Docs One mans un...</td>\n",
       "    </tr>\n",
       "    <tr>\n",
       "      <td>3</td>\n",
       "      <td>https://nyti.ms/2Mga6wf</td>\n",
       "      <td>Advertisement Supported by With a new Addams F...</td>\n",
       "    </tr>\n",
       "    <tr>\n",
       "      <td>4</td>\n",
       "      <td>https://nyti.ms/2pSoGB5</td>\n",
       "      <td>\\n      By A O S CO TT\\n\\nO CT 8 2019\\n\\nThe c...</td>\n",
       "    </tr>\n",
       "    <tr>\n",
       "      <td>...</td>\n",
       "      <td>...</td>\n",
       "      <td>...</td>\n",
       "    </tr>\n",
       "    <tr>\n",
       "      <td>11562</td>\n",
       "      <td>https://nyti.ms/2EK6vlI</td>\n",
       "      <td>Advertisement Supported by By Tiffany May HO N...</td>\n",
       "    </tr>\n",
       "    <tr>\n",
       "      <td>11563</td>\n",
       "      <td>https://nyti.ms/2ENHfLr</td>\n",
       "      <td>Advertisement Supported by On Soccer Jrgen Klo...</td>\n",
       "    </tr>\n",
       "    <tr>\n",
       "      <td>11564</td>\n",
       "      <td>https://nyti.ms/2EK5Nos</td>\n",
       "      <td>Advertisement Supported by Every month subscri...</td>\n",
       "    </tr>\n",
       "    <tr>\n",
       "      <td>11565</td>\n",
       "      <td>https://nyti.ms/2EKlM68</td>\n",
       "      <td>Advertisement Supported by TI PS Hotels with p...</td>\n",
       "    </tr>\n",
       "    <tr>\n",
       "      <td>11566</td>\n",
       "      <td>https://nyti.ms/2XiHtBk</td>\n",
       "      <td>Advertisement Supported by By Shane O Neill Iv...</td>\n",
       "    </tr>\n",
       "  </tbody>\n",
       "</table>\n",
       "<p>11567 rows × 2 columns</p>\n",
       "</div>"
      ],
      "text/plain": [
       "                           url  \\\n",
       "0      https://nyti.ms/2MfGkpT   \n",
       "1      https://nyti.ms/2OMm5TN   \n",
       "2      https://nyti.ms/2ISx9Lj   \n",
       "3      https://nyti.ms/2Mga6wf   \n",
       "4      https://nyti.ms/2pSoGB5   \n",
       "...                        ...   \n",
       "11562  https://nyti.ms/2EK6vlI   \n",
       "11563  https://nyti.ms/2ENHfLr   \n",
       "11564  https://nyti.ms/2EK5Nos   \n",
       "11565  https://nyti.ms/2EKlM68   \n",
       "11566  https://nyti.ms/2XiHtBk   \n",
       "\n",
       "                                                    text  \n",
       "0      Advertisement Supported by As the cultural fir...  \n",
       "1      Advertisement Supported by To conservatives in...  \n",
       "2      Advertisement Supported by Op Docs One mans un...  \n",
       "3      Advertisement Supported by With a new Addams F...  \n",
       "4      \\n      By A O S CO TT\\n\\nO CT 8 2019\\n\\nThe c...  \n",
       "...                                                  ...  \n",
       "11562  Advertisement Supported by By Tiffany May HO N...  \n",
       "11563  Advertisement Supported by On Soccer Jrgen Klo...  \n",
       "11564  Advertisement Supported by Every month subscri...  \n",
       "11565  Advertisement Supported by TI PS Hotels with p...  \n",
       "11566  Advertisement Supported by By Shane O Neill Iv...  \n",
       "\n",
       "[11567 rows x 2 columns]"
      ]
     },
     "execution_count": 250,
     "metadata": {},
     "output_type": "execute_result"
    }
   ],
   "source": [
    "unpickled_df"
   ]
  },
  {
   "cell_type": "code",
   "execution_count": 254,
   "metadata": {},
   "outputs": [
    {
     "name": "stdout",
     "output_type": "stream",
     "text": [
      "11472\n"
     ]
    }
   ],
   "source": [
    "unpickled_df = unpickled_df.dropna()\n",
    "print(unpickled_df.shape[0])"
   ]
  },
  {
   "cell_type": "code",
   "execution_count": 258,
   "metadata": {
    "scrolled": false
   },
   "outputs": [],
   "source": [
    "### CLEAN UP\n",
    "\n",
    "def clean(text):\n",
    "    try:\n",
    "        text = text.split('Follow Us', 1)[0]\n",
    "    except:\n",
    "        pass\n",
    "    \n",
    "    try:\n",
    "        text = text.split('Follow The New York Times', 1)[0]\n",
    "    except:\n",
    "        pass\n",
    "    \n",
    "    try:\n",
    "        text = text.split('The Times is committed to publishing a diversity of letters to the editor', 1)[0]\n",
    "    except:\n",
    "        pass\n",
    "    \n",
    "    try:\n",
    "        text = text.replace('Advertisement', '')\n",
    "    except:\n",
    "        pass\n",
    "    \n",
    "    try:\n",
    "        text = text.split('An earlier version of this article', 1)[0]\n",
    "    except:\n",
    "        pass\n",
    "    \n",
    "    try:\n",
    "        text = text.split('Reporting was contributed by', 1)[0]\n",
    "    except:\n",
    "        pass\n",
    "    \n",
    "    try:\n",
    "        text = text.split('By', 1)[-1]\n",
    "    except:\n",
    "        pass\n",
    "    \n",
    "    # Keep only words\n",
    "    pattern = re.compile('(?<!\\S)[A-Z][a-z]+(?!\\S)|(?<!\\S)[a-z]+(?!\\S)|(?<!\\S)[0-9]+(?!\\S)')\n",
    "    text = \" \".join(re.findall(pattern, text))\n",
    "    \n",
    "    return text \n",
    "\n",
    "unpickled_df['text'] = unpickled_df['text'].apply(clean)"
   ]
  },
  {
   "cell_type": "code",
   "execution_count": 259,
   "metadata": {},
   "outputs": [
    {
     "data": {
      "text/html": [
       "<div>\n",
       "<style scoped>\n",
       "    .dataframe tbody tr th:only-of-type {\n",
       "        vertical-align: middle;\n",
       "    }\n",
       "\n",
       "    .dataframe tbody tr th {\n",
       "        vertical-align: top;\n",
       "    }\n",
       "\n",
       "    .dataframe thead th {\n",
       "        text-align: right;\n",
       "    }\n",
       "</style>\n",
       "<table border=\"1\" class=\"dataframe\">\n",
       "  <thead>\n",
       "    <tr style=\"text-align: right;\">\n",
       "      <th></th>\n",
       "      <th>url</th>\n",
       "      <th>text</th>\n",
       "    </tr>\n",
       "  </thead>\n",
       "  <tbody>\n",
       "    <tr>\n",
       "      <td>0</td>\n",
       "      <td>https://nyti.ms/2MfGkpT</td>\n",
       "      <td>Cara Buckley Tyler Perry hears voices in his h...</td>\n",
       "    </tr>\n",
       "    <tr>\n",
       "      <td>1</td>\n",
       "      <td>https://nyti.ms/2OMm5TN</td>\n",
       "      <td>Robert Leonard Mr Leonard is the author of Dee...</td>\n",
       "    </tr>\n",
       "    <tr>\n",
       "      <td>2</td>\n",
       "      <td>https://nyti.ms/2ISx9Lj</td>\n",
       "      <td>Shuhan Fan and Luther Clement Ms Fan and Mr Cl...</td>\n",
       "    </tr>\n",
       "    <tr>\n",
       "      <td>3</td>\n",
       "      <td>https://nyti.ms/2Mga6wf</td>\n",
       "      <td>Devin Fuller Twentysix years after their last ...</td>\n",
       "    </tr>\n",
       "    <tr>\n",
       "      <td>4</td>\n",
       "      <td>https://nyti.ms/2pSoGB5</td>\n",
       "      <td>8 2019 The critic Scott reflects on the outsiz...</td>\n",
       "    </tr>\n",
       "    <tr>\n",
       "      <td>...</td>\n",
       "      <td>...</td>\n",
       "      <td>...</td>\n",
       "    </tr>\n",
       "    <tr>\n",
       "      <td>11562</td>\n",
       "      <td>https://nyti.ms/2EK6vlI</td>\n",
       "      <td>Tiffany May For a few heady months in 2016 Pok...</td>\n",
       "    </tr>\n",
       "    <tr>\n",
       "      <td>11563</td>\n",
       "      <td>https://nyti.ms/2ENHfLr</td>\n",
       "      <td>Rory coverage and analysis of the Champions Le...</td>\n",
       "    </tr>\n",
       "    <tr>\n",
       "      <td>11564</td>\n",
       "      <td>https://nyti.ms/2EK5Nos</td>\n",
       "      <td>Jennifer Vineyard Watching is The New York Tim...</td>\n",
       "    </tr>\n",
       "    <tr>\n",
       "      <td>11565</td>\n",
       "      <td>https://nyti.ms/2EKlM68</td>\n",
       "      <td>Travel Editors The New York Times travel depar...</td>\n",
       "    </tr>\n",
       "    <tr>\n",
       "      <td>11566</td>\n",
       "      <td>https://nyti.ms/2XiHtBk</td>\n",
       "      <td>Shane Neill Ive been a student of history for ...</td>\n",
       "    </tr>\n",
       "  </tbody>\n",
       "</table>\n",
       "<p>11472 rows × 2 columns</p>\n",
       "</div>"
      ],
      "text/plain": [
       "                           url  \\\n",
       "0      https://nyti.ms/2MfGkpT   \n",
       "1      https://nyti.ms/2OMm5TN   \n",
       "2      https://nyti.ms/2ISx9Lj   \n",
       "3      https://nyti.ms/2Mga6wf   \n",
       "4      https://nyti.ms/2pSoGB5   \n",
       "...                        ...   \n",
       "11562  https://nyti.ms/2EK6vlI   \n",
       "11563  https://nyti.ms/2ENHfLr   \n",
       "11564  https://nyti.ms/2EK5Nos   \n",
       "11565  https://nyti.ms/2EKlM68   \n",
       "11566  https://nyti.ms/2XiHtBk   \n",
       "\n",
       "                                                    text  \n",
       "0      Cara Buckley Tyler Perry hears voices in his h...  \n",
       "1      Robert Leonard Mr Leonard is the author of Dee...  \n",
       "2      Shuhan Fan and Luther Clement Ms Fan and Mr Cl...  \n",
       "3      Devin Fuller Twentysix years after their last ...  \n",
       "4      8 2019 The critic Scott reflects on the outsiz...  \n",
       "...                                                  ...  \n",
       "11562  Tiffany May For a few heady months in 2016 Pok...  \n",
       "11563  Rory coverage and analysis of the Champions Le...  \n",
       "11564  Jennifer Vineyard Watching is The New York Tim...  \n",
       "11565  Travel Editors The New York Times travel depar...  \n",
       "11566  Shane Neill Ive been a student of history for ...  \n",
       "\n",
       "[11472 rows x 2 columns]"
      ]
     },
     "execution_count": 259,
     "metadata": {},
     "output_type": "execute_result"
    }
   ],
   "source": [
    "unpickled_df"
   ]
  },
  {
   "cell_type": "code",
   "execution_count": 260,
   "metadata": {},
   "outputs": [],
   "source": [
    "unpickled_df.to_pickle(\"./clean_text.pkl\")"
   ]
  },
  {
   "cell_type": "code",
   "execution_count": null,
   "metadata": {},
   "outputs": [],
   "source": []
  }
 ],
 "metadata": {
  "kernelspec": {
   "display_name": "Python 3",
   "language": "python",
   "name": "python3"
  },
  "language_info": {
   "codemirror_mode": {
    "name": "ipython",
    "version": 3
   },
   "file_extension": ".py",
   "mimetype": "text/x-python",
   "name": "python",
   "nbconvert_exporter": "python",
   "pygments_lexer": "ipython3",
   "version": "3.7.4"
  }
 },
 "nbformat": 4,
 "nbformat_minor": 2
}
