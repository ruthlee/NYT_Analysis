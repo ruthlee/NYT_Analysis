{
 "cells": [
  {
   "cell_type": "code",
   "execution_count": 23,
   "metadata": {},
   "outputs": [],
   "source": [
    "import requests\n",
    "from bs4 import BeautifulSoup"
   ]
  },
  {
   "cell_type": "code",
   "execution_count": 30,
   "metadata": {},
   "outputs": [],
   "source": [
    "# Some code pulled from: \n",
    "# https://stackoverflow.com/questions/40699015/python-beautifulsoup-new-york-times-web-article-scraping\n",
    "\n",
    "def get_article(url):\n",
    "    ''' if given the url for a specific nyt article, will grab the article text '''\n",
    "    \n",
    "    session = requests.Session()\n",
    "    req = session.get(url)\n",
    "    soup = BeautifulSoup(req.text)\n",
    "    \n",
    "    paragraphs = soup.find_all('p')\n",
    "    article = ''\n",
    "    for p in paragraphs:\n",
    "        article = article + p.get_text()\n",
    "        \n",
    "    return article"
   ]
  },
  {
   "cell_type": "code",
   "execution_count": 31,
   "metadata": {},
   "outputs": [
    {
     "data": {
      "text/plain": [
       "'AdvertisementSupported byHe is unlikely to be defined by Never Trumpism and more likely to campaign on the threat of runaway deficits and debts. By Liz MairMs. Mair is a Republican strategist. This weekend, the former South Carolina governor Mark Sanford threw his hat into the presidential ring.He is the latest Republican to challenge President Trump for his party’s nomination. He also becomes the latest Republican to be instantly dismissed and jeered and even have his sanity questioned in some quarters. But Mr. Sanford enters the race in a vastly different position than Bill Weld, the former Massachusetts governor, and Joe Walsh, the former representative from Illinois — one that could make him a more formidable challenger to Mr. Trump. Unlike Mr. Walsh and Mr. Weld, both “Never Trumpers\" — in fact, the latter ran as part of a ticket that aimed to draw votes from both Mr. Trump and Hillary Clinton in 2016 — Mr. Sanford is unlikely to be defined by Never Trumpism. His position is more nuanced.Unlike Mr. Walsh, in particular, his candidacy is unlikely to be just, or mainly, about Mr. Trump. Instead, his candidacy is likely to be dedicated to the issues that have motivated and impassioned him for years —\\xa0particularly issues related to fiscal restraint and responsibility. He happens to be on the right side of those issues, and the president on the wrong side. Also unlike Mr. Walsh, Mr. Sanford is not in the race to give Never Trumpers a home, nor to instinctively, reflexively oppose the president or “stick it to him.” Indeed, on some issues he will probably agree with him, and not in a tokenist way.Unlike Mr. Weld, Mr. Sanford has been a big-name player and an elected official in Republican politics in the Trump era, the Tea Party-dominated period that preceded it and the two decades before that. He remains beloved by many conservative activists, who know he’s been serious about reining in wasteful spending, targeting debt and the deficit, and supporting free trade. They remember when he brought squealing piglets to the state house to make a point about “pork” spending. They know he got As and Bs from the Cato Institute for his fiscal record as governor. They know he has a lifetime 93 percent grade from the Club for Growth (which is better than the House Freedom caucus chairman Mark Meadows’s lifetime grade). And they regard him as having had about the least-scandalous scandal in modern political history (he had an extramarital affair because he fell in love and got engaged to the woman).That, collectively, could make him dangerous — an irony for a candidate who doesn’t seem intent on damaging Mr. Trump. Mr. Sanford really just wants to bring focus to a few big topics and provide some comfort to fellow Republicans who don’t revile the president or even disagree with him on most things but who fret about the national debt and the effects of a trade war, the way most Republicans used to.How many of those voters are there? If the era of Trump has shown us anything, it’s that Republicans talk a good game about debt and deficits, but when given control of the House, the Senate and the White House, they will pile them up just about as badly, and maybe worse, than a Democratic House, Senate and president would.It has also shown us that Republicans really do follow their leader — validating the comment that the MSNBC host Chris Matthews has been known to make that Democrats fall in love and Republicans fall in line. But conservative elites who loved Mr. Sanford in 2008, or 2010, or 2012 right through his narrow 2018 primary loss to Katie Arrington, a more Trumpy candidate, will be hard-pressed to dump him now. So, too, will be those original Tea Party activists, the ones yelling “taxed enough already,” whose worry — honest to God — was excessive spending by both parties. They may like the tax cut they got at the bottom of 2017. But they know they’ll be footing the bill for Mr. Trump’s fiscal policies and for any response to a future economic downturn that, when it comes, will be in part because of Mr. Trump’s trade policies. They may not hate or really dislike Mr. Trump or even be inclined to vote against him in the general election or sit it out, but they might just prefer to tick Mr. Sanford’s box in their state’s primary (or caucus for him).That is assuming their primary or caucus won’t wind up canceled. Plenty of liberals spent Sunday chortling over the fact that Republican state parties in South Carolina, Nevada, Arizona and Kansas are trying to nix their primaries or caucuses, apparently in an effort to ensure no challengers to the president gain traction thanks to voters in their state (they claim it’s all about “costs”). South Carolina’s presence on that list is especially inconvenient for Mr. Sanford. However, it’s unclear whether the parties’ moves will stand up, from either a grass-roots or a legal perspective.Still, there’s a chance that New Hampshire’s traditional libertarian and debt-fretting voters will give him a good look. According to some polling, around 40 percent of the state’s Republicans may be shopping for an alternative to the president — and the same appears to be true in Iowa, where farmers, being crushed by Mr. Trump’s trade war with China, might be open to Mr. Sanford’s message regarding free trade and the dangers of tariffs. Will this mean Mr. Sanford peels off 5 percent of Republican delegates, 10 percent or more? Theoretically, he could weaken the president significantly — or, if you prefer, significantly showcase Mr. Trump’s weaknesses, since ultimately it’s more likely that a sitting president drawing a primary challenge is a sign of electoral frailty rather than a cause of it. The probability is that Mr. Sanford will prove a stronger contender than Mr. Walsh or Mr. Weld. If he is, it will probably be because of his passion for the issues and his record and not because he is anti-Trump. Liz Mair, a strategist for campaigns by Scott Walker, Roy Blunt, Rand Paul, Carly Fiorina and Rick Perry, is the founder and president of Mair Strategies.The Times is committed to publishing a diversity of letters to the editor. We’d like to hear what you think about this or any of our articles. Here are some tips. And here’s our email: letters@nytimes.com.Follow The New York Times Opinion section on Facebook, Twitter (@NYTopinion) and Instagram.Advertisement'"
      ]
     },
     "execution_count": 31,
     "metadata": {},
     "output_type": "execute_result"
    }
   ],
   "source": [
    "get_article(\"https://www.nytimes.com/2019/09/09/opinion/mark-sanford-2020.html\")"
   ]
  },
  {
   "cell_type": "code",
   "execution_count": null,
   "metadata": {},
   "outputs": [],
   "source": []
  }
 ],
 "metadata": {
  "kernelspec": {
   "display_name": "Python 3",
   "language": "python",
   "name": "python3"
  },
  "language_info": {
   "codemirror_mode": {
    "name": "ipython",
    "version": 3
   },
   "file_extension": ".py",
   "mimetype": "text/x-python",
   "name": "python",
   "nbconvert_exporter": "python",
   "pygments_lexer": "ipython3",
   "version": "3.7.3"
  }
 },
 "nbformat": 4,
 "nbformat_minor": 2
}
