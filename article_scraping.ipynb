{
 "cells": [
  {
   "cell_type": "code",
   "execution_count": 16,
   "metadata": {},
   "outputs": [],
   "source": [
    "import requests\n",
    "from bs4 import BeautifulSoup\n",
    "import pandas as pd\n",
    "import numpy as np\n",
    "import time\n",
    "from tqdm import tqdm_notebook as tqdm"
   ]
  },
  {
   "cell_type": "code",
   "execution_count": 18,
   "metadata": {},
   "outputs": [],
   "source": [
    "# Some code pulled from: \n",
    "# https://stackoverflow.com/questions/40699015/python-beautifulsoup-new-york-times-web-article-scraping\n",
    "\n",
    "def get_article(url):\n",
    "    ''' if given the url for a specific nyt article, will grab the article text '''\n",
    "    \n",
    "    session = requests.Session()\n",
    "    req = session.get(url)\n",
    "    soup = BeautifulSoup(req.text)\n",
    "    \n",
    "    paragraphs = soup.find_all('p')\n",
    "    article = ''\n",
    "    for p in paragraphs:\n",
    "        article = article + p.get_text()\n",
    "        \n",
    "    return article"
   ]
  },
  {
   "cell_type": "code",
   "execution_count": 19,
   "metadata": {},
   "outputs": [
    {
     "data": {
      "text/plain": [
       "\"Here's our preview of the October Democratic Debate. Visit the Democratic debate live stream, hosted by The Times and CNN, live on October 15, 2019, at 8 p.m. ET.Dude gotta go focused on Trump Kamala Harris + a shot at Warren/Sanders for Medicare for All lacking “choice”and lots of laughterShe really, really wants impeachment to work for her.Prosecute the case, if you will.Does Cory Booker take anyone on? Or does he stick to a “love” message?The lovemonger will find a little fire, I think.  He needs to pay bills soon.Does Julian Castro help himself or hurt himself? He hurt himself a bit by aggressively going after Biden at the September debate.Castro is playing for the progressive future, not present. He’ll continue thatAnd what about TOM STEYER?What ABOUT Tom Steyer?WHAT about Tom Steyer?Tom Steyer will remian very, very richMy Steyer prediction: he will be a very useful foil for Sanders and Warren.I fully expect some Dem(s) to take on Steyer something fierce.  Why aren’t you using your money on the party, etc.In addition to the usual “big money” hits, specifically lashing him on the need to put money toward other causes.We’ll see soon enough!Thanks, team, for joining me today. And thank you to our readers for the great questions!Please come back to nytimes.com today and Tuesday for extensive coverage of the CNN & New York Times debate, and please join us for a live analysis of the debate starting at 7:30 p.m. Tuesday.We will have a live stream of the debate on nytimes.com and the NYTimes app – you can watch and follow the analysis through the night.Thanks, everyone!\""
      ]
     },
     "execution_count": 19,
     "metadata": {},
     "output_type": "execute_result"
    }
   ],
   "source": [
    "get_article(\"https://nyti.ms/2IP8De4\")"
   ]
  },
  {
   "cell_type": "code",
   "execution_count": 20,
   "metadata": {},
   "outputs": [],
   "source": [
    "urls = [line.rstrip('\\n') for line in open('/Users/Kyelee/Documents/Columbia/senior_seminar/bash_scripts/twitlinks.txt')]"
   ]
  },
  {
   "cell_type": "code",
   "execution_count": 28,
   "metadata": {},
   "outputs": [
    {
     "data": {
      "application/vnd.jupyter.widget-view+json": {
       "model_id": "2caf3db4204a47f182a8f41c38fb1ce1",
       "version_major": 2,
       "version_minor": 0
      },
      "text/plain": [
       "HBox(children=(IntProgress(value=0, max=5), HTML(value='')))"
      ]
     },
     "metadata": {},
     "output_type": "display_data"
    },
    {
     "name": "stdout",
     "output_type": "stream",
     "text": [
      "\n"
     ]
    }
   ],
   "source": [
    "df = pd.DataFrame(index = range(len(urls)), columns = ['url', 'text'])\n",
    "df.url = urls\n",
    "\n",
    "# for i in tqdm(range(len(urls))):\n",
    "for i in tqdm(range(5)):\n",
    "    time.sleep(3)\n",
    "    try:\n",
    "        df.text[i] = get_article(urls[i])\n",
    "    except:\n",
    "        print(exception)\n",
    "        pass\n",
    "    \n",
    "    \n",
    "df.to_pickle(\"./text.pkl\")"
   ]
  },
  {
   "cell_type": "code",
   "execution_count": 29,
   "metadata": {},
   "outputs": [],
   "source": [
    "unpickled_df = pd.read_pickle(\"./text.pkl\")"
   ]
  },
  {
   "cell_type": "code",
   "execution_count": 30,
   "metadata": {},
   "outputs": [
    {
     "data": {
      "text/html": [
       "<div>\n",
       "<style scoped>\n",
       "    .dataframe tbody tr th:only-of-type {\n",
       "        vertical-align: middle;\n",
       "    }\n",
       "\n",
       "    .dataframe tbody tr th {\n",
       "        vertical-align: top;\n",
       "    }\n",
       "\n",
       "    .dataframe thead th {\n",
       "        text-align: right;\n",
       "    }\n",
       "</style>\n",
       "<table border=\"1\" class=\"dataframe\">\n",
       "  <thead>\n",
       "    <tr style=\"text-align: right;\">\n",
       "      <th></th>\n",
       "      <th>url</th>\n",
       "      <th>text</th>\n",
       "    </tr>\n",
       "  </thead>\n",
       "  <tbody>\n",
       "    <tr>\n",
       "      <td>0</td>\n",
       "      <td>http://tinyurl.com/ysayyt</td>\n",
       "      <td>AdvertisementBy SHAILA DEWANJULY 29, 2007\\nGEE...</td>\n",
       "    </tr>\n",
       "    <tr>\n",
       "      <td>1</td>\n",
       "      <td>http://tinyurl.com/2hyh3u</td>\n",
       "      <td>AdvertisementBy JULIET MACURJULY 29, 2007\\nAft...</td>\n",
       "    </tr>\n",
       "    <tr>\n",
       "      <td>2</td>\n",
       "      <td>http://tinyurl.com/yoow8d</td>\n",
       "      <td>AdvertisementBy SCOTT SHANE and DAVID JOHNSTON...</td>\n",
       "    </tr>\n",
       "    <tr>\n",
       "      <td>3</td>\n",
       "      <td>http://tinyurl.com/29hyjm</td>\n",
       "      <td>AdvertisementBy THE NEW YORK TIMESJULY 29, 200...</td>\n",
       "    </tr>\n",
       "    <tr>\n",
       "      <td>4</td>\n",
       "      <td>http://tinyurl.com/ysc6h6</td>\n",
       "      <td>AdvertisementBy DAVID BARBOZAJULY 29, 2007\\nSH...</td>\n",
       "    </tr>\n",
       "    <tr>\n",
       "      <td>...</td>\n",
       "      <td>...</td>\n",
       "      <td>...</td>\n",
       "    </tr>\n",
       "    <tr>\n",
       "      <td>326554</td>\n",
       "      <td>http://nyti.ms/1Vg19Bq</td>\n",
       "      <td>NaN</td>\n",
       "    </tr>\n",
       "    <tr>\n",
       "      <td>326555</td>\n",
       "      <td>http://nyti.ms/20rY3tt</td>\n",
       "      <td>NaN</td>\n",
       "    </tr>\n",
       "    <tr>\n",
       "      <td>326556</td>\n",
       "      <td>http://nyti.ms/1Tro2Tb</td>\n",
       "      <td>NaN</td>\n",
       "    </tr>\n",
       "    <tr>\n",
       "      <td>326557</td>\n",
       "      <td>http://nyti.ms/20sUPWE</td>\n",
       "      <td>NaN</td>\n",
       "    </tr>\n",
       "    <tr>\n",
       "      <td>326558</td>\n",
       "      <td>http://nyti.ms/1WL9HRL</td>\n",
       "      <td>NaN</td>\n",
       "    </tr>\n",
       "  </tbody>\n",
       "</table>\n",
       "<p>326559 rows × 2 columns</p>\n",
       "</div>"
      ],
      "text/plain": [
       "                              url  \\\n",
       "0       http://tinyurl.com/ysayyt   \n",
       "1       http://tinyurl.com/2hyh3u   \n",
       "2       http://tinyurl.com/yoow8d   \n",
       "3       http://tinyurl.com/29hyjm   \n",
       "4       http://tinyurl.com/ysc6h6   \n",
       "...                           ...   \n",
       "326554     http://nyti.ms/1Vg19Bq   \n",
       "326555     http://nyti.ms/20rY3tt   \n",
       "326556     http://nyti.ms/1Tro2Tb   \n",
       "326557     http://nyti.ms/20sUPWE   \n",
       "326558     http://nyti.ms/1WL9HRL   \n",
       "\n",
       "                                                     text  \n",
       "0       AdvertisementBy SHAILA DEWANJULY 29, 2007\\nGEE...  \n",
       "1       AdvertisementBy JULIET MACURJULY 29, 2007\\nAft...  \n",
       "2       AdvertisementBy SCOTT SHANE and DAVID JOHNSTON...  \n",
       "3       AdvertisementBy THE NEW YORK TIMESJULY 29, 200...  \n",
       "4       AdvertisementBy DAVID BARBOZAJULY 29, 2007\\nSH...  \n",
       "...                                                   ...  \n",
       "326554                                                NaN  \n",
       "326555                                                NaN  \n",
       "326556                                                NaN  \n",
       "326557                                                NaN  \n",
       "326558                                                NaN  \n",
       "\n",
       "[326559 rows x 2 columns]"
      ]
     },
     "execution_count": 30,
     "metadata": {},
     "output_type": "execute_result"
    }
   ],
   "source": [
    "unpickled_df"
   ]
  },
  {
   "cell_type": "code",
   "execution_count": 25,
   "metadata": {},
   "outputs": [
    {
     "data": {
      "text/plain": [
       "\"AdvertisementBy DAVID BARBOZAJULY 29, 2007\\nSHANGHAI,  July 26  — After years of being accused by Western nations of making only token gestures to fight fake goods and months of complaints about the safety of its exports, China is taking extraordinary steps to change its image.Last week, Beijing unveiled new controls aimed at fighting counterfeit drugs and substandard exports. High-ranking officials and regulators vowed to strengthen China’s food safety system, tighten controls over chemical use by large seafood and meat producers, and create a system that holds producers more accountable for selling unsafe products.The government also announced that it had broken up a series of criminal rings that operated huge manufacturing centers, producing goods as varied as pirated Microsoft software, fake Viagra and imitation Crest toothpaste.Authorities here have also reached out to Ogilvy Public Relations, an international consultancy that advises on crisis management.Advertisement“This is a very concerted effort to show they are doing something,” said Russell Leigh Moses, a longtime political analyst based in Beijing. “They are using work groups, issuing directives and closing factories. They are rolling out the artillery.”AdvertisementSpurred on by a sense of economic realpolitik, Beijing has grown particularly fearful that mounting international pressure could lead to sanctions or embargoes, and thereby hinder China’s booming economy.Whether promising to overhaul China’s regulatory regime and stepping up enforcement will be enough to tame what some view as the Wild, Wild East of capitalism is unclear, analysts say, because some of the problems are so deeply rooted.“There’s no quick fix,” says Henk Bekedam, the World Health Organization’s top representative in China. “China has perhaps been cutting some corners because the focus has been on growth. But they have 5,000 companies that produce medicine. That’s far too many.“The government has a limited ability to enforce things,” he said. “They need to start with simple things: reduce the number of people you monitor.”Still, even critics of China’s policies have been impressed with the catalog of recently announced changes.The bold actions, experts say, are partly aimed at easing political pressure from the United States and the European Union, where regulators and politicians are pressing for assurances about the quality and safety of goods made here after a string of recalls involving goods like tainted pet food and toothpaste, defective tires and dangerous toys.In Washington this month, President Bush created a panel of cabinet officials to make recommendations aimed at minimizing the dangers from imported foods or other products. The announcement coincided with Congressional hearings on food safety.AdvertisementAnd in recent weeks, several Democrats in Congress have pressed for tougher measures against China, including trade sanctions and new money for American regulators to guard against unsafe goods entering the country, particularly from China.Those issues will lead the agenda for the United States Treasury secretary, Henry M. Paulson Jr., as he arrives for talks with Chinese officials this weekend.Europe is also concerned. Top European Union officials are planning to meet in Beijing next month to discuss food safety and other issues.And on Wednesday, the head of the European Union’s consumer protection agency, Meglena Kuneva, pressed Chinese regulators to improve their standards during a tour of a government testing lab and a Chinese toy factory near the city of Nanjing.Ms. Kuneva said that she was hopeful China would make progress, but she added that if its products continued to be a problem, the European Union would block market access.“Toys like this can be in the hands of children, so do a good job,” Ms. Kuneva told a young inspector. “The good name of this country is in your hands.”Many experts doubt whether China can follow through on its promises — some of which have been made before.  And Chinese officials have not conceded that all the problems lie here. Regulators have repeatedly accused the international news media of exaggerating the number of problem Chinese goods.Some Chinese businessmen say protectionists in the West are seizing on isolated cases to drum up support for trade sanctions, at a time when China is amassing a huge trade surplus.Please verify you're not a robot by clicking the box.Invalid email address. Please re-enter.You must select a newsletter to subscribe to.View all New York Times newsletters.China has also argued that the quality of the food it exports is no worse than the quality of American food entering China. After the United States Food and Drug Administration moved last month to block five types of Chinese seafood from entering the United States market, China responded by banning some imports of American frozen poultry and pork, insisting they were tainted by antibiotic residues.AdvertisementStill, many experts say China has also become more candid about the challenges facing the country.The government recently acknowledged that 20 percent of its consumer goods and 14 percent of the truck tires made here failed safety inspections.And, most dramatically, just two weeks ago, China executed the former head of the State Food and Drug Administration, Zheng Xiaoyu, for accepting bribes and failing to police the marketplace. Days after he was executed, a top drug agency official admitted that the obstacles to repairing the regulatory systems were daunting.The admissions were a surprising about-face for China, which has been slow to accept blame for shipping tainted products overseas.But analysts say that as the evidence and bad news began to mount this year, China was forced to respond in a less adversarial way, particularly because the country’s booming economy is built on foreign investment and trade.Recently, the government has even sought crisis management advice from Western consultants.“They have not historically been advice takers,” said Scott Kronick, president of Ogilvy Public Relations Worldwide China, part of the WPP Group. “But they are reaching out in a genuine way to seek advice. I think they recognize everything doesn’t have to be rosy.”Since then, officials from various regulatory agencies and ministries have held news conferences to announce new regulations or to brief the news media on successful crackdowns.Last week, China’s quality inspectors promised to improve quarterly reports to the European Union about consumer product safety. And on Thursday, the government said it planned to offer large rewards to citizens who report on illegal practices in the food industry.Many experts say the problem in China is not oversight but enforcement.“The issue is not whether Chinese businesses are regulated; they are,” says Yasheng Huang, an associate professor at the Sloan School of Management at the Massachusetts Institute of Technology. “The issue is that the regulators themselves are unable to be impartial in the enforcement of the laws. Those laws are meaningless in a system that does not even pretend to have judicial independence, media freedom and legislative oversight.”AdvertisementSome say regulators are susceptible to corruption and that local inspectors can easily be bought off or persuaded that cracking down on local companies hurts economic development and risks jobs.That may explain why after years of promising to tackle piracy and counterfeiting, the practice continues to flourish in China, often in the open.Last week, the United States’ Federal Bureau of Investigation and China’s Ministry of Public Security said they had broken up one of the biggest software piracy rings ever, arresting 25 people and closing six manufacturing facilities in China.They also seized $500 million worth of pirated Microsoft and Symantec software. A day later, the government here said it had seized a ton of fake Viagra pills and closed counterfeit drug factories that produced Tamiflu, anti-malaria drugs and other products.The seizures may be a sign of progress, but they are also an indication of how widespread the problem has been for China, experts say.“The problem is these are campaigns and they tend to be turned off at some point,” says Mr. Moses, the analyst in Beijing.A version of this article appears in print on , on Page A6 of the New York edition with the headline: China Moves to Refurbish A Damaged Global Image.  Order Reprints| Today's Paper|Subscribe\\n\\nWe’re interested in your feedback on this page. Tell us what you think.Go to Home Page »\""
      ]
     },
     "execution_count": 25,
     "metadata": {},
     "output_type": "execute_result"
    }
   ],
   "source": [
    "df.text[4]"
   ]
  },
  {
   "cell_type": "code",
   "execution_count": null,
   "metadata": {},
   "outputs": [],
   "source": []
  }
 ],
 "metadata": {
  "kernelspec": {
   "display_name": "Python 3",
   "language": "python",
   "name": "python3"
  },
  "language_info": {
   "codemirror_mode": {
    "name": "ipython",
    "version": 3
   },
   "file_extension": ".py",
   "mimetype": "text/x-python",
   "name": "python",
   "nbconvert_exporter": "python",
   "pygments_lexer": "ipython3",
   "version": "3.7.4"
  }
 },
 "nbformat": 4,
 "nbformat_minor": 2
}
