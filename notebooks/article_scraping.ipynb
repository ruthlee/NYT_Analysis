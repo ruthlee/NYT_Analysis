{
 "cells": [
  {
   "cell_type": "code",
   "execution_count": 12,
   "metadata": {},
   "outputs": [],
   "source": [
    "import requests\n",
    "from bs4 import BeautifulSoup\n",
    "import pandas as pd\n",
    "import numpy as np\n",
    "import time\n",
    "from tqdm import tqdm_notebook as tqdm\n",
    "import re"
   ]
  },
  {
   "cell_type": "markdown",
   "metadata": {},
   "source": [
    "## Scraping NYT pages for Articles given URL\n",
    "\n",
    "We define a ```get_article``` function which scrapes the HTML of the NYTimes page, then given a text file of links from Twitter will run the function in a loop (which takes a good long while)"
   ]
  },
  {
   "cell_type": "code",
   "execution_count": 5,
   "metadata": {},
   "outputs": [],
   "source": [
    "# source: https://towardsdatascience.com/a-practitioners-guide-to-natural-language-processing-part-i-processing-understanding-text-9f4abfd13e72\n",
    "def remove_special_chars(text, remove_digits=False):\n",
    "    pattern = r'[^a-zA-z0-9\\s{.}{;}]' if not remove_digits else r'[^a-zA-z\\s]'\n",
    "    text = re.sub(pattern, '', text)\n",
    "    return text"
   ]
  },
  {
   "cell_type": "code",
   "execution_count": 6,
   "metadata": {},
   "outputs": [
    {
     "data": {
      "text/plain": [
       "'a.'"
      ]
     },
     "execution_count": 6,
     "metadata": {},
     "output_type": "execute_result"
    }
   ],
   "source": [
    "remove_special_chars(\"áaã.\")"
   ]
  },
  {
   "cell_type": "code",
   "execution_count": 13,
   "metadata": {},
   "outputs": [],
   "source": [
    "# Some code pulled from: \n",
    "# https://stackoverflow.com/questions/40699015/python-beautifulsoup-new-york-times-web-article-scraping\n",
    "\n",
    "def get_article(url):\n",
    "    ''' if given the url for a specific nyt article, will grab the article text '''\n",
    "    \n",
    "    session = requests.Session()\n",
    "    req = session.get(url)\n",
    "    soup = BeautifulSoup(req.text)\n",
    "    \n",
    "    paragraphs = soup.find_all('p')\n",
    "    article = ''\n",
    "    for p in paragraphs:\n",
    "        article = article + p.get_text()\n",
    "    \n",
    "    ### Clean up some\n",
    "    \n",
    "    # article = remove_special_chars(article)\n",
    "    \n",
    "    # source: https://stackoverflow.com/questions/199059/a-pythonic-way-to-insert-a-space-before-capital-letters\n",
    "    article = re.sub(r\"(\\w)([A-Z])\", r\"\\1 \\2\", article)\n",
    "    \n",
    "    try:\n",
    "        article = article.split('\\n', 1)[-1]\n",
    "    except:\n",
    "        pass\n",
    "    \n",
    "    try:\n",
    "        article = article.split('A version of this article', 1)[0]\n",
    "    except:\n",
    "        pass\n",
    "    \n",
    "    try:\n",
    "        article = article.split('Were interested in your feedback on this page', 1)[0]\n",
    "    except:\n",
    "        pass\n",
    "\n",
    "    return article"
   ]
  },
  {
   "cell_type": "code",
   "execution_count": 16,
   "metadata": {},
   "outputs": [
    {
     "data": {
      "text/plain": [
       "'\\n      By T AR IR O M ZE ZE WA\\n\\nA UG. 5, 2019\\n\\nSand and the ocean aren’t for everyone. And that’s O.K.\\nSand and the ocean aren’t for everyone. And that’s O.K.By T AR IR O M ZE ZE WA A UG. 5, 2019 One of the enduring pleasures of summer is a trip to the beach — the blankets and umbrellas, the briny air, the rhythmic water. Who among us doesn’t love digging our toes into the sand and lounging in the waves?Lots of people, it turns out. For many vacationers, the beach is an inconvenience: Sand gets everywhere, waves knock you down and the prospect of encountering one of the 2 million unknown species lurking in the water can be terrifying.For those who fear the ocean or who are unable to access the beach because of disabilities or medical reasons, pools can be an exciting alternative. And for some, being in a pool rather than the ocean simply feels safer because they can rest their feet on the bottom and see what’s down below.At Polihale Beach, there are no lifeguards, no potable water and often no other people, just 17 miles of water and dunes.By B ON NI E T SU I A UG. 5, 2019 In this age of easy-to-get-anywhere travel, it’s not that easy to get to Polihale, on the isolated western coast of Kauai, far and away the longest stretch of beach in the state of Hawaii.You drive to the end of the island’s paved road, past the entrance to the cordoned-off, high-security Pacific Missile Range Facility Barking Sands, always a bit of a strange juxtaposition — the remote island paradise and the military installation, like a sci-fi movie, or an episode of “Lost.” And then you drive some more, on a rutted old cane hauling road that spits up red dust in sun and red mud in rain. You might see a rental sedan crawling along or spinning its wheels in a bottomless pothole. The State of Hawaii warns that the road “may flood and become impassable,” and that “rental car companies may prohibit use of their vehicles on the park access road.” Cell service is spotty.In July, the dirt track threw up potholes so impressive that it shook the old rainwater right out of the canvas roof of the Jeep Wrangler I was driving and dumped it onto my head.In South County, you feel like you are on vacation even if you only have a few hours to spare.By C AR YN B. D AV IS A UG. 5, 2019 The next time you’re sitting in holiday traffic, slowly inching toward the Hamptons, Cape Cod or another congested beach hot spot, consider the virtues of South County, R.I. This gem of the Ocean State, with 100 miles of coastline, is 2.5 hours from Manhattan, 1.5 hours from Boston and requires no planes or ferries. Between the coastal communities of Watch Hill and Charlestown lies 14 public beaches. I’ve been a day tripper here most of my adult life. I come for the clean, clear water, the soft sand and to play in the waves. These are less crowded and underdeveloped beaches, ones that families have returned to for generations. In the towns, instead of busy thoroughfares, tree-lined streets meander through quiet neighborhoods leading to the shore. Chain stores and name-brand eateries are a bit harder to find, but fresh seafood, caught by local fishermen, is in abundance, as are pristine nature preserves for biking, hiking and bird watching, and salt ponds for recreational shell fishing.People are friendly and relaxed, and it’s contagious. You feel like you are on vacation even if you only have a few hours to spare.“Ozark,” the television series is dark and violent, but Lake of the Ozarks is a laid back, watery place where you can boat up to the bar.By M IK E S EE LY A UG. 5, 2019 Stepping into the office of the Alhonna Resort on the shores of Missouri’s Lake of the Ozarks, I was greeted by what at first glance appeared to be a small, gray horse. It wasn’t; it was an enormous dog. And it wasn’t the only one: For a long weekend each June, Great Dane enthusiasts from around the Midwest gather at Alhonna — its guest rooms frozen in popcorn-ceilinged time — for a convention of sorts, with the gentle, giant canines basically taking over the kiddie pool. This just so happened to be the weekend they — and I — were there.The screenwriter Bill Dubuque worked as a dock hand at Alhonna in his teens and would go on to create the hit Netflix series, “Ozark,” which will soon return for a third season. In Mr. Dubuque’s show, Alhonna is called The Blue Cat, a scruffy lodge that the show’s lead character, Marty Byrde, played by Jason Bateman, purchases with money he’s laundering for a Mexican drug cartel, having moved his family from the affluent suburbs of Chicago to Lake of the Ozarks under extreme duress.Since the show began streaming in 2017, a Blue Cat Tavern and Grill has opened in the town of Roach, Mo., while Marty Byrde’s Bar & Grill opened in 2018 on the lake’s touristy Bagnell Dam Boulevard strip. The show’s image of Lake of the Ozarks — a man-made body of water created in 1931 with the construction of the Bagnell Dam on the Osage River that boasts 1,150 miles of waterfront and ranks among Middle America’s foremost summertime recreation destinations — is hardly flattering. Humphrey Bogart and his friends loved California’s Newport Beach, and from the water, it is still easy to understand why.By D EB RA K AM IN A UG. 5, 2019 Visitors to Newport Beach today might know the coastal Southern California city from “The Real Housewives,” “The O.C.” and “Arrested Development,” all of which were set amid its rolling green hills and picture-perfect beaches. But I had come to Newport Beach to commune with the stars of Old Hollywood, who began staking their claim to this idyllic spot just one hour south of Los Angeles during the silent film era.In the Golden Age of Hollywood, Newport Beach’s lure was not so much its land, dotted as it was with big-band ballrooms and smoke-filled cocktail bars. It was its water, and specifically the sprawling recreational harbor where the stars docked their yachts and sailboats.“These guys treasured their privacy,” Bob Verini, the Hollywood historian, said of the members of the original Rat Pack, which predated that eponymous 1960s gang of stars and included Humphrey Bogart as ringleader and Judy Garland, Cary Grant and Spencer Tracy as devotees. “There was no privacy in Hollywood. But when they got on the water and beyond the three-mile limit, out there, they could drop all the pretense and be their authentic selves.”Every year, families pack up the minivan and head to the Florida Panhandle for a beach vacation with a Southern accent.By S HA NN ON S IM S A UG. 5, 2019“I’m catching crabs!” Four-year-old Jonathan Bullington shouts when I ask what he’s looking for on the beach. It’s just after sunset on the Florida Panhandle, and the beach is full of squeals of joy. Jonathan’s father says the family drove 12 hours from northern Arkansas to come to this beach, the same place his wife’s family has come each summer for years. A few paces away, little Miguel Pinho is bent over in the sand, his fingers trying to pry out plump sand fleas before they burrow away from him, while his little brother Dante is just trying not to get knocked over by the waves. Their father, Antonio Pinho, says it’s the family’s second year making the 10-hour drive to the Panhandle from Houston. “It’s drive-able. And it’s a new tradition,” he says, before turning back to admiring the boys’ finds.Over the years the Panhandle, this strip of Florida that seems to be reaching for Alabama, has become a summer vacation mecca for southerners looking for relief from the heat that suffocates the region in July and August. One stretch of the coast, from Destin to Panama City, is particularly attractive — and affordable — for families who can skip the airport and just pack up the minivan. From New Orleans the drive is four hours, from Atlanta five, from Nashville seven. In fact, the local tourism board estimates that 84 percent of visitors to the region drive there. And so every year, right about now, families pack up the beach chairs and blenders and head out.Advertisement'"
      ]
     },
     "execution_count": 16,
     "metadata": {},
     "output_type": "execute_result"
    }
   ],
   "source": [
    "get_article(urls[5010])"
   ]
  },
  {
   "cell_type": "code",
   "execution_count": 17,
   "metadata": {},
   "outputs": [],
   "source": [
    "urls = [line.rstrip('\\n') for line in open('/Users/Kyelee/Documents/Columbia/senior_seminar/bash_scripts/twitlinks.txt')]"
   ]
  },
  {
   "cell_type": "code",
   "execution_count": 18,
   "metadata": {},
   "outputs": [
    {
     "data": {
      "text/plain": [
       "11567"
      ]
     },
     "execution_count": 18,
     "metadata": {},
     "output_type": "execute_result"
    }
   ],
   "source": [
    "len(urls)"
   ]
  },
  {
   "cell_type": "code",
   "execution_count": 29,
   "metadata": {},
   "outputs": [
    {
     "data": {
      "application/vnd.jupyter.widget-view+json": {
       "model_id": "e0558f4d871041ce9c9209b3abc2ba20",
       "version_major": 2,
       "version_minor": 0
      },
      "text/plain": [
       "HBox(children=(IntProgress(value=0, max=11567), HTML(value='')))"
      ]
     },
     "metadata": {},
     "output_type": "display_data"
    },
    {
     "name": "stdout",
     "output_type": "stream",
     "text": [
      "exception 1\n",
      "exception 2\n",
      "exception 3\n",
      "exception 4\n",
      "exception 5\n",
      "exception 6\n",
      "exception 7\n",
      "exception 8\n",
      "exception 9\n",
      "exception 10\n",
      "exception 11\n",
      "exception 12\n",
      "exception 13\n",
      "exception 14\n",
      "exception 15\n",
      "exception 16\n",
      "exception 17\n",
      "exception 18\n",
      "exception 19\n",
      "exception 20\n",
      "exception 21\n",
      "exception 22\n",
      "exception 23\n",
      "exception 24\n",
      "exception 25\n",
      "exception 26\n",
      "exception 27\n",
      "exception 28\n",
      "exception 29\n",
      "exception 30\n",
      "exception 31\n",
      "exception 32\n",
      "exception 33\n",
      "exception 34\n",
      "exception 35\n",
      "exception 36\n",
      "exception 37\n",
      "exception 38\n",
      "exception 39\n",
      "exception 40\n",
      "exception 41\n",
      "exception 42\n",
      "exception 43\n",
      "exception 44\n",
      "exception 45\n",
      "exception 46\n",
      "exception 47\n",
      "exception 48\n",
      "exception 49\n",
      "exception 50\n",
      "exception 51\n",
      "exception 52\n",
      "exception 53\n",
      "exception 54\n",
      "exception 55\n",
      "exception 56\n",
      "exception 57\n",
      "exception 58\n",
      "exception 59\n",
      "exception 60\n",
      "exception 61\n",
      "exception 62\n",
      "exception 63\n",
      "exception 64\n",
      "exception 65\n",
      "exception 66\n",
      "exception 67\n",
      "exception 68\n",
      "exception 69\n",
      "exception 70\n",
      "exception 71\n",
      "exception 72\n",
      "exception 73\n",
      "exception 74\n",
      "exception 75\n",
      "exception 76\n",
      "exception 77\n",
      "exception 78\n",
      "exception 79\n",
      "exception 80\n",
      "exception 81\n",
      "exception 82\n",
      "exception 83\n",
      "exception 84\n",
      "exception 85\n",
      "exception 86\n",
      "exception 87\n",
      "exception 88\n",
      "exception 89\n",
      "exception 90\n",
      "exception 91\n",
      "exception 92\n",
      "exception 93\n",
      "exception 94\n",
      "exception 95\n",
      "exception 96\n",
      "exception 97\n",
      "\n"
     ]
    }
   ],
   "source": [
    "df = pd.DataFrame(index = range(len(urls)), columns = ['url', 'text'])\n",
    "df.url = urls\n",
    "n = 1\n",
    "\n",
    "for i in tqdm(range(len(urls))):\n",
    "    time.sleep(3)\n",
    "    try:\n",
    "        df.text[i] = get_article(urls[i])\n",
    "    except:\n",
    "        print(\"exception\", n)\n",
    "        n = n + 1\n",
    "        pass\n",
    "    \n",
    "    \n",
    "df.to_pickle(\"./text.pkl\")"
   ]
  },
  {
   "cell_type": "markdown",
   "metadata": {},
   "source": [
    "## Read the saved pickle file and CLEAN"
   ]
  },
  {
   "cell_type": "code",
   "execution_count": 30,
   "metadata": {},
   "outputs": [],
   "source": [
    "unpickled_df = pd.read_pickle(\"./text.pkl\")"
   ]
  },
  {
   "cell_type": "code",
   "execution_count": 31,
   "metadata": {},
   "outputs": [
    {
     "data": {
      "text/html": [
       "<div>\n",
       "<style scoped>\n",
       "    .dataframe tbody tr th:only-of-type {\n",
       "        vertical-align: middle;\n",
       "    }\n",
       "\n",
       "    .dataframe tbody tr th {\n",
       "        vertical-align: top;\n",
       "    }\n",
       "\n",
       "    .dataframe thead th {\n",
       "        text-align: right;\n",
       "    }\n",
       "</style>\n",
       "<table border=\"1\" class=\"dataframe\">\n",
       "  <thead>\n",
       "    <tr style=\"text-align: right;\">\n",
       "      <th></th>\n",
       "      <th>url</th>\n",
       "      <th>text</th>\n",
       "    </tr>\n",
       "  </thead>\n",
       "  <tbody>\n",
       "    <tr>\n",
       "      <td>0</td>\n",
       "      <td>https://nyti.ms/2MfGkpT</td>\n",
       "      <td>Advertisement Supported by As the cultural fir...</td>\n",
       "    </tr>\n",
       "    <tr>\n",
       "      <td>1</td>\n",
       "      <td>https://nyti.ms/2OMm5TN</td>\n",
       "      <td>Advertisement Supported by To conservatives in...</td>\n",
       "    </tr>\n",
       "    <tr>\n",
       "      <td>2</td>\n",
       "      <td>https://nyti.ms/2ISx9Lj</td>\n",
       "      <td>Advertisement Supported by Op-Docs One man’s u...</td>\n",
       "    </tr>\n",
       "    <tr>\n",
       "      <td>3</td>\n",
       "      <td>https://nyti.ms/2Mga6wf</td>\n",
       "      <td>Advertisement Supported by With a new “Addams ...</td>\n",
       "    </tr>\n",
       "    <tr>\n",
       "      <td>4</td>\n",
       "      <td>https://nyti.ms/2pSoGB5</td>\n",
       "      <td>\\n      By A.O. S CO TT\\n\\nO CT. 8, 2019\\n\\nTh...</td>\n",
       "    </tr>\n",
       "    <tr>\n",
       "      <td>...</td>\n",
       "      <td>...</td>\n",
       "      <td>...</td>\n",
       "    </tr>\n",
       "    <tr>\n",
       "      <td>11562</td>\n",
       "      <td>https://nyti.ms/2EK6vlI</td>\n",
       "      <td>Advertisement Supported by By Tiffany May HO N...</td>\n",
       "    </tr>\n",
       "    <tr>\n",
       "      <td>11563</td>\n",
       "      <td>https://nyti.ms/2ENHfLr</td>\n",
       "      <td>Advertisement Supported by On Soccer Jürgen Kl...</td>\n",
       "    </tr>\n",
       "    <tr>\n",
       "      <td>11564</td>\n",
       "      <td>https://nyti.ms/2EK5Nos</td>\n",
       "      <td>Advertisement Supported by Every month, subscr...</td>\n",
       "    </tr>\n",
       "    <tr>\n",
       "      <td>11565</td>\n",
       "      <td>https://nyti.ms/2EKlM68</td>\n",
       "      <td>Advertisement Supported by TI PS Hotels with p...</td>\n",
       "    </tr>\n",
       "    <tr>\n",
       "      <td>11566</td>\n",
       "      <td>https://nyti.ms/2XiHtBk</td>\n",
       "      <td>Advertisement Supported by By Shane O’Neill I’...</td>\n",
       "    </tr>\n",
       "  </tbody>\n",
       "</table>\n",
       "<p>11567 rows × 2 columns</p>\n",
       "</div>"
      ],
      "text/plain": [
       "                           url  \\\n",
       "0      https://nyti.ms/2MfGkpT   \n",
       "1      https://nyti.ms/2OMm5TN   \n",
       "2      https://nyti.ms/2ISx9Lj   \n",
       "3      https://nyti.ms/2Mga6wf   \n",
       "4      https://nyti.ms/2pSoGB5   \n",
       "...                        ...   \n",
       "11562  https://nyti.ms/2EK6vlI   \n",
       "11563  https://nyti.ms/2ENHfLr   \n",
       "11564  https://nyti.ms/2EK5Nos   \n",
       "11565  https://nyti.ms/2EKlM68   \n",
       "11566  https://nyti.ms/2XiHtBk   \n",
       "\n",
       "                                                    text  \n",
       "0      Advertisement Supported by As the cultural fir...  \n",
       "1      Advertisement Supported by To conservatives in...  \n",
       "2      Advertisement Supported by Op-Docs One man’s u...  \n",
       "3      Advertisement Supported by With a new “Addams ...  \n",
       "4      \\n      By A.O. S CO TT\\n\\nO CT. 8, 2019\\n\\nTh...  \n",
       "...                                                  ...  \n",
       "11562  Advertisement Supported by By Tiffany May HO N...  \n",
       "11563  Advertisement Supported by On Soccer Jürgen Kl...  \n",
       "11564  Advertisement Supported by Every month, subscr...  \n",
       "11565  Advertisement Supported by TI PS Hotels with p...  \n",
       "11566  Advertisement Supported by By Shane O’Neill I’...  \n",
       "\n",
       "[11567 rows x 2 columns]"
      ]
     },
     "execution_count": 31,
     "metadata": {},
     "output_type": "execute_result"
    }
   ],
   "source": [
    "unpickled_df"
   ]
  },
  {
   "cell_type": "code",
   "execution_count": 32,
   "metadata": {},
   "outputs": [
    {
     "name": "stdout",
     "output_type": "stream",
     "text": [
      "11470\n"
     ]
    }
   ],
   "source": [
    "unpickled_df = unpickled_df.dropna()\n",
    "print(unpickled_df.shape[0])"
   ]
  },
  {
   "cell_type": "code",
   "execution_count": 34,
   "metadata": {},
   "outputs": [
    {
     "data": {
      "text/plain": [
       "'Advertisement Supported by By James Glanz and Brad Plumer This article was originally published on Oct. 12. It has been updated to reflect the latest developments.California has a reputation as a haven for technological innovation. But the state’s largest power utility is using the lowest of low-tech solutions — rolling blackouts — to protect dry landscapes from live power lines that could spark or overheat and set wildfires.Responding to forecasts of strong winds, the utility, Pacific Gas & Electric, expanded its blackout zone in Northern California on Saturday to include 940,000 customers — affecting as many as 2.7 million people — even as the local authorities ordered the evacuation of 50,000 residents because of the spreading Kincade fire. The outage comes on the heels of another major blackout by the utility earlier this month.There is technology, though, that can reduce the need for some of the most dangerous power lines and limit the extent of territory left in the dark.“It’s an incredible travesty, this sort of really crude and unsophisticated approach for dealing with what is a very serious issue,” said Jack Brouwer, an engineering professor and director of the National Fuel Cell Research Center at the University of California, Irvine.“We have technological solutions for this that exist,” Mr. Brouwer said. Unfortunately, he said, California regulations and planning have been “insufficient for that technology to be used instead of just turning the power off.”One of the approaches, called microgrids, involves using power sources like solar panels and diesel engines to provide electricity for a community, a cluster of buildings or even a manufacturing site. Because that electricity circulates only locally, a microgrid can eliminate the need to transmit power over long distances.Depending on how the microgrid is designed, some or all of the lights can stay on, whether or not the main grid is energized.Amory Lovins, a co-founder and former chief scientist of Rocky Mountain Institute, a nonprofit group that focuses on energy, said that the vast majority of power outages begin with failures of the grid — the transmission and distribution lines and the equipment surrounding them — rather than with power plants. In places like California, those failed power lines can generate fires.“That’s part of the logic of microgrids,” Mr. Lovins said. “It’s not big enough to need long-distance transmission, which is where a lot of the fire issues are arising.”“It could be part of the solution in California,” Mr. Lovins added.Some industry experts defended P G&E’s use of the blackouts.“It’s one of the tools in the toolbox, and given that safety is paramount, they are erring on the side of caution,” said Scott Aaronson, vice president for security and preparedness at the Edison Electric Institute, an industry group. “It’s not exactly an elegant solution, but it does save lives and property.”He added, “They’re doing what they can given the topography that they serve and where the threats of ignition are.”A town that uses microgrids can disconnect from the main grid either temporarily or permanently, depending on how the microgrid is designed. Some communities that have experienced frequent blackouts are taking a closer look at using microgrids to unplug themselves from the broader power system during emergencies. That way, they can use a variety of local power sources, like diesel generators, solar panels, gas turbines or fuel cells.Fuel cells are a particularly efficient power generator. Both fuel cells and gas turbines usually rely on another grid — the highly reliable network of natural gas pipelines beneath the ground.The town of Borrego Springs, which is 86 miles northeast of San Diego and is served by a single long-distance transmission line, uses a microgrid. After a wildfire took down that line in 2007, leaving the town’s 3,500 residents stranded without power for two days, the local utility, San Diego Gas & Electric, built a microgrid demonstration project for the town.Today, if the transmission line feeding power to Borrego Springs goes down, the town can detach itself from the grid and draw power from an array of diesel generators, solar farms, rooftop solar panels and batteries. The system faced an early test in 2013, when severe storms knocked out the power lines and the microgrid fed power to more than 1,000 customers and critical facilities — such as gas stations, stores and a cooling center at the library — for more than 20 hours while the line was being repaired.The drawback of microgrids is that they can take years to build and they tend to be more expensive than the traditional grid. San Diego Gas & Electric relied on $13 million in state and federal grants to set up the Borrego Springs project and is still working to refine the system. But the costs of blackouts can also be high: Borrego Springs has a large elderly population and can experience 100-degree heat in the summer.Interest in microgrids is rapidly growing around the United States. Philadelphia’s Navy Yard, Alcatraz Island and an affordable housing complex in Brooklyn all have versions of microgrids that can operate autonomously when the larger power grid goes down. And while many of these microgrids rely on diesel or gas power to provide electricity around the clock, some are incorporating cleaner energies like solar power and batteries as the prices of those technologies drop.“A lot of interest in minigrids in the United States has been in response to disasters,” said Paulina Jaramillo, a professor of engineering and public policy at Carnegie Mellon University. “Large centralized grids usually have a cost advantage because of economies of scale, but if there are reliability risks, it makes sense for communities to take into account the cost of those outages.”In the earliest years of electrical service in cities, all the networks were so small that they were, effectively, microgrids, said Harold L. Platt, author of “The Electric City” and professor of history emeritus at Loyola University Chicago.“From the 1900s into the nuclear era, you could keep building them bigger and bigger,” Mr. Platt said. “You achieve efficiencies by having high-voltage transmission lines, so you could connect all these local grids and power them from these giant generator stations.”The expansion meant efficiency, but also the potential for much larger outages — as in 2003, when power lines in Ohio sagged into trees and became inoperable, setting off a blackout that swept north as far as Canada and then down the East Coast of the United States. The cost of a line sparking or shorting out in dry zones like the California hills can be far greater — leading to not just a blackout but also a fire.Mark Feasel, vice president of Smart Grid at Schneider Electric, said that the argument that utilities or private organizations lack the expertise to set up microgrids no longer holds. Schneider, for example, offers a service that designs the system, connects the various sources of power and provides the technology to operate it.That service provides a “bespoke utility” for customers, Mr. Feasel said. He said there is “nothing standing in the way” of using those microgrids in California, except that regulated utilities like P G&E rely on the public utility commission to allow spending on such projects and create regulations to make the approach viable. The state commissions are often reluctant to make those outlays, Mr. Feasel said.“Which is why the real innovation is happening outside the utility structure,” Mr. Feasel said.The California Public Utilities Commission did not respond to a request for comment.K.R. Sridhar, the chief executive of Bloom Energy, a company based in Silicon Valley that makes fuel cell-based microgrids, called them a “homegrown technology” in California.“This is a technology that has to be adopted in California to save property and the lives of people,” Mr. Sridhar said.“In spite of that, political leadership and the regulatory framework is not enabling this,” Mr. Sridhar said. “The people of California have a right to be upset at its leadership and demand better solutions, because they exist.”Advertisement'"
      ]
     },
     "execution_count": 34,
     "metadata": {},
     "output_type": "execute_result"
    }
   ],
   "source": [
    "unpickled_df.text[10]"
   ]
  },
  {
   "cell_type": "code",
   "execution_count": 40,
   "metadata": {
    "scrolled": false
   },
   "outputs": [
    {
     "name": "stderr",
     "output_type": "stream",
     "text": [
      "/Users/Kyelee/opt/anaconda3/lib/python3.7/site-packages/ipykernel_launcher.py:50: SettingWithCopyWarning: \n",
      "A value is trying to be set on a copy of a slice from a DataFrame.\n",
      "Try using .loc[row_indexer,col_indexer] = value instead\n",
      "\n",
      "See the caveats in the documentation: http://pandas.pydata.org/pandas-docs/stable/user_guide/indexing.html#returning-a-view-versus-a-copy\n"
     ]
    }
   ],
   "source": [
    "### CLEAN UP\n",
    "\n",
    "def clean(text):\n",
    "    try:\n",
    "        text = text.split('Follow Us', 1)[0]\n",
    "    except:\n",
    "        pass\n",
    "    \n",
    "    try:\n",
    "        text = text.split('Follow The New York Times', 1)[0]\n",
    "    except:\n",
    "        pass\n",
    "    \n",
    "    try:\n",
    "        text = text.split('The Times is committed to publishing a diversity of letters to the editor', 1)[0]\n",
    "    except:\n",
    "        pass\n",
    "    \n",
    "    try:\n",
    "        text = text.replace('Advertisement', '')\n",
    "    except:\n",
    "        pass\n",
    "    \n",
    "    try:\n",
    "        text = text.split('An earlier version of this article', 1)[0]\n",
    "    except:\n",
    "        pass\n",
    "    \n",
    "    try:\n",
    "        text = text.split('Reporting was contributed by', 1)[0]\n",
    "    except:\n",
    "        pass\n",
    "    \n",
    "    try:\n",
    "        text = text.split('By', 1)[-1]\n",
    "    except:\n",
    "        pass\n",
    "    \n",
    "    try:\n",
    "        text = text.replace('\\n', ' ')\n",
    "    except:\n",
    "        pass\n",
    "    \n",
    "    # Keep only words\n",
    "    # pattern = re.compile('(?<!\\S)[A-Z][a-z]+(?!\\S)|(?<!\\S)[a-z]+(?!\\S)|(?<!\\S)[0-9]+(?!\\S)')\n",
    "    # text = \" \".join(re.findall(pattern, text))\n",
    "    \n",
    "    return text \n",
    "\n",
    "unpickled_df['text'] = unpickled_df['text'].apply(clean)"
   ]
  },
  {
   "cell_type": "code",
   "execution_count": 41,
   "metadata": {},
   "outputs": [
    {
     "data": {
      "text/html": [
       "<div>\n",
       "<style scoped>\n",
       "    .dataframe tbody tr th:only-of-type {\n",
       "        vertical-align: middle;\n",
       "    }\n",
       "\n",
       "    .dataframe tbody tr th {\n",
       "        vertical-align: top;\n",
       "    }\n",
       "\n",
       "    .dataframe thead th {\n",
       "        text-align: right;\n",
       "    }\n",
       "</style>\n",
       "<table border=\"1\" class=\"dataframe\">\n",
       "  <thead>\n",
       "    <tr style=\"text-align: right;\">\n",
       "      <th></th>\n",
       "      <th>url</th>\n",
       "      <th>text</th>\n",
       "    </tr>\n",
       "  </thead>\n",
       "  <tbody>\n",
       "    <tr>\n",
       "      <td>0</td>\n",
       "      <td>https://nyti.ms/2MfGkpT</td>\n",
       "      <td>Cara Buckley AT LA NT A — Tyler Perry hears v...</td>\n",
       "    </tr>\n",
       "    <tr>\n",
       "      <td>1</td>\n",
       "      <td>https://nyti.ms/2OMm5TN</td>\n",
       "      <td>Robert Leonard Mr. Leonard is the author of “...</td>\n",
       "    </tr>\n",
       "    <tr>\n",
       "      <td>2</td>\n",
       "      <td>https://nyti.ms/2ISx9Lj</td>\n",
       "      <td>Shuhan Fan and Luther Clement Ms. Fan and Mr....</td>\n",
       "    </tr>\n",
       "    <tr>\n",
       "      <td>3</td>\n",
       "      <td>https://nyti.ms/2Mga6wf</td>\n",
       "      <td>Devin Fuller Twenty-six years after their las...</td>\n",
       "    </tr>\n",
       "    <tr>\n",
       "      <td>4</td>\n",
       "      <td>https://nyti.ms/2pSoGB5</td>\n",
       "      <td>A.O. S CO TT O CT. 8, 2019  I spent my adoles...</td>\n",
       "    </tr>\n",
       "    <tr>\n",
       "      <td>...</td>\n",
       "      <td>...</td>\n",
       "      <td>...</td>\n",
       "    </tr>\n",
       "    <tr>\n",
       "      <td>11562</td>\n",
       "      <td>https://nyti.ms/2EK6vlI</td>\n",
       "      <td>Tiffany May HO NG K ON G — For a few heady mo...</td>\n",
       "    </tr>\n",
       "    <tr>\n",
       "      <td>11563</td>\n",
       "      <td>https://nyti.ms/2ENHfLr</td>\n",
       "      <td>the last day, I felt it was gone,” defender A...</td>\n",
       "    </tr>\n",
       "    <tr>\n",
       "      <td>11564</td>\n",
       "      <td>https://nyti.ms/2EK5Nos</td>\n",
       "      <td>Jennifer Vineyard Watching is The New York Ti...</td>\n",
       "    </tr>\n",
       "    <tr>\n",
       "      <td>11565</td>\n",
       "      <td>https://nyti.ms/2EKlM68</td>\n",
       "      <td>a miracle, I had booked us in a hotel next to...</td>\n",
       "    </tr>\n",
       "    <tr>\n",
       "      <td>11566</td>\n",
       "      <td>https://nyti.ms/2XiHtBk</td>\n",
       "      <td>Shane O’Neill I’ve been a student of L.G.B.T....</td>\n",
       "    </tr>\n",
       "  </tbody>\n",
       "</table>\n",
       "<p>11470 rows × 2 columns</p>\n",
       "</div>"
      ],
      "text/plain": [
       "                           url  \\\n",
       "0      https://nyti.ms/2MfGkpT   \n",
       "1      https://nyti.ms/2OMm5TN   \n",
       "2      https://nyti.ms/2ISx9Lj   \n",
       "3      https://nyti.ms/2Mga6wf   \n",
       "4      https://nyti.ms/2pSoGB5   \n",
       "...                        ...   \n",
       "11562  https://nyti.ms/2EK6vlI   \n",
       "11563  https://nyti.ms/2ENHfLr   \n",
       "11564  https://nyti.ms/2EK5Nos   \n",
       "11565  https://nyti.ms/2EKlM68   \n",
       "11566  https://nyti.ms/2XiHtBk   \n",
       "\n",
       "                                                    text  \n",
       "0       Cara Buckley AT LA NT A — Tyler Perry hears v...  \n",
       "1       Robert Leonard Mr. Leonard is the author of “...  \n",
       "2       Shuhan Fan and Luther Clement Ms. Fan and Mr....  \n",
       "3       Devin Fuller Twenty-six years after their las...  \n",
       "4       A.O. S CO TT O CT. 8, 2019  I spent my adoles...  \n",
       "...                                                  ...  \n",
       "11562   Tiffany May HO NG K ON G — For a few heady mo...  \n",
       "11563   the last day, I felt it was gone,” defender A...  \n",
       "11564   Jennifer Vineyard Watching is The New York Ti...  \n",
       "11565   a miracle, I had booked us in a hotel next to...  \n",
       "11566   Shane O’Neill I’ve been a student of L.G.B.T....  \n",
       "\n",
       "[11470 rows x 2 columns]"
      ]
     },
     "execution_count": 41,
     "metadata": {},
     "output_type": "execute_result"
    }
   ],
   "source": [
    "unpickled_df"
   ]
  },
  {
   "cell_type": "code",
   "execution_count": 46,
   "metadata": {},
   "outputs": [],
   "source": [
    "unpickled_df.to_pickle(\"../clean_text.pkl\")"
   ]
  },
  {
   "cell_type": "code",
   "execution_count": 47,
   "metadata": {},
   "outputs": [
    {
     "data": {
      "text/html": [
       "<div>\n",
       "<style scoped>\n",
       "    .dataframe tbody tr th:only-of-type {\n",
       "        vertical-align: middle;\n",
       "    }\n",
       "\n",
       "    .dataframe tbody tr th {\n",
       "        vertical-align: top;\n",
       "    }\n",
       "\n",
       "    .dataframe thead th {\n",
       "        text-align: right;\n",
       "    }\n",
       "</style>\n",
       "<table border=\"1\" class=\"dataframe\">\n",
       "  <thead>\n",
       "    <tr style=\"text-align: right;\">\n",
       "      <th></th>\n",
       "      <th>url</th>\n",
       "      <th>text</th>\n",
       "    </tr>\n",
       "  </thead>\n",
       "  <tbody>\n",
       "    <tr>\n",
       "      <td>0</td>\n",
       "      <td>https://nyti.ms/2MfGkpT</td>\n",
       "      <td>Cara Buckley AT LA NT A — Tyler Perry hears v...</td>\n",
       "    </tr>\n",
       "    <tr>\n",
       "      <td>1</td>\n",
       "      <td>https://nyti.ms/2OMm5TN</td>\n",
       "      <td>Robert Leonard Mr. Leonard is the author of “...</td>\n",
       "    </tr>\n",
       "    <tr>\n",
       "      <td>2</td>\n",
       "      <td>https://nyti.ms/2ISx9Lj</td>\n",
       "      <td>Shuhan Fan and Luther Clement Ms. Fan and Mr....</td>\n",
       "    </tr>\n",
       "    <tr>\n",
       "      <td>3</td>\n",
       "      <td>https://nyti.ms/2Mga6wf</td>\n",
       "      <td>Devin Fuller Twenty-six years after their las...</td>\n",
       "    </tr>\n",
       "    <tr>\n",
       "      <td>4</td>\n",
       "      <td>https://nyti.ms/2pSoGB5</td>\n",
       "      <td>A.O. S CO TT O CT. 8, 2019  I spent my adoles...</td>\n",
       "    </tr>\n",
       "    <tr>\n",
       "      <td>...</td>\n",
       "      <td>...</td>\n",
       "      <td>...</td>\n",
       "    </tr>\n",
       "    <tr>\n",
       "      <td>11562</td>\n",
       "      <td>https://nyti.ms/2EK6vlI</td>\n",
       "      <td>Tiffany May HO NG K ON G — For a few heady mo...</td>\n",
       "    </tr>\n",
       "    <tr>\n",
       "      <td>11563</td>\n",
       "      <td>https://nyti.ms/2ENHfLr</td>\n",
       "      <td>the last day, I felt it was gone,” defender A...</td>\n",
       "    </tr>\n",
       "    <tr>\n",
       "      <td>11564</td>\n",
       "      <td>https://nyti.ms/2EK5Nos</td>\n",
       "      <td>Jennifer Vineyard Watching is The New York Ti...</td>\n",
       "    </tr>\n",
       "    <tr>\n",
       "      <td>11565</td>\n",
       "      <td>https://nyti.ms/2EKlM68</td>\n",
       "      <td>a miracle, I had booked us in a hotel next to...</td>\n",
       "    </tr>\n",
       "    <tr>\n",
       "      <td>11566</td>\n",
       "      <td>https://nyti.ms/2XiHtBk</td>\n",
       "      <td>Shane O’Neill I’ve been a student of L.G.B.T....</td>\n",
       "    </tr>\n",
       "  </tbody>\n",
       "</table>\n",
       "<p>11470 rows × 2 columns</p>\n",
       "</div>"
      ],
      "text/plain": [
       "                           url  \\\n",
       "0      https://nyti.ms/2MfGkpT   \n",
       "1      https://nyti.ms/2OMm5TN   \n",
       "2      https://nyti.ms/2ISx9Lj   \n",
       "3      https://nyti.ms/2Mga6wf   \n",
       "4      https://nyti.ms/2pSoGB5   \n",
       "...                        ...   \n",
       "11562  https://nyti.ms/2EK6vlI   \n",
       "11563  https://nyti.ms/2ENHfLr   \n",
       "11564  https://nyti.ms/2EK5Nos   \n",
       "11565  https://nyti.ms/2EKlM68   \n",
       "11566  https://nyti.ms/2XiHtBk   \n",
       "\n",
       "                                                    text  \n",
       "0       Cara Buckley AT LA NT A — Tyler Perry hears v...  \n",
       "1       Robert Leonard Mr. Leonard is the author of “...  \n",
       "2       Shuhan Fan and Luther Clement Ms. Fan and Mr....  \n",
       "3       Devin Fuller Twenty-six years after their las...  \n",
       "4       A.O. S CO TT O CT. 8, 2019  I spent my adoles...  \n",
       "...                                                  ...  \n",
       "11562   Tiffany May HO NG K ON G — For a few heady mo...  \n",
       "11563   the last day, I felt it was gone,” defender A...  \n",
       "11564   Jennifer Vineyard Watching is The New York Ti...  \n",
       "11565   a miracle, I had booked us in a hotel next to...  \n",
       "11566   Shane O’Neill I’ve been a student of L.G.B.T....  \n",
       "\n",
       "[11470 rows x 2 columns]"
      ]
     },
     "execution_count": 47,
     "metadata": {},
     "output_type": "execute_result"
    }
   ],
   "source": [
    "clean_df = pd.read_pickle(\"../clean_text.pkl\")\n",
    "clean_df"
   ]
  },
  {
   "cell_type": "code",
   "execution_count": 49,
   "metadata": {},
   "outputs": [],
   "source": [
    "# clean_df.text[100]"
   ]
  },
  {
   "cell_type": "code",
   "execution_count": null,
   "metadata": {},
   "outputs": [],
   "source": []
  }
 ],
 "metadata": {
  "kernelspec": {
   "display_name": "Python 3",
   "language": "python",
   "name": "python3"
  },
  "language_info": {
   "codemirror_mode": {
    "name": "ipython",
    "version": 3
   },
   "file_extension": ".py",
   "mimetype": "text/x-python",
   "name": "python",
   "nbconvert_exporter": "python",
   "pygments_lexer": "ipython3",
   "version": "3.7.4"
  }
 },
 "nbformat": 4,
 "nbformat_minor": 2
}
